{
  "cells": [
    {
      "cell_type": "markdown",
      "metadata": {
        "id": "gK2pgpF7F17L"
      },
      "source": [
        "# Setup"
      ]
    },
    {
      "cell_type": "code",
      "execution_count": null,
      "metadata": {
        "colab": {
          "base_uri": "https://localhost:8080/"
        },
        "id": "7_T5GfJdFdZA",
        "outputId": "f25f9768-8dc4-47d0-fae1-7df9efb1d587"
      },
      "outputs": [
        {
          "output_type": "stream",
          "name": "stdout",
          "text": [
            "Requirement already satisfied: gensim in /usr/local/lib/python3.7/dist-packages (3.6.0)\n",
            "Requirement already satisfied: smart-open>=1.2.1 in /usr/local/lib/python3.7/dist-packages (from gensim) (5.2.1)\n",
            "Requirement already satisfied: six>=1.5.0 in /usr/local/lib/python3.7/dist-packages (from gensim) (1.15.0)\n",
            "Requirement already satisfied: scipy>=0.18.1 in /usr/local/lib/python3.7/dist-packages (from gensim) (1.4.1)\n",
            "Requirement already satisfied: numpy>=1.11.3 in /usr/local/lib/python3.7/dist-packages (from gensim) (1.21.6)\n",
            "Requirement already satisfied: seaborn in /usr/local/lib/python3.7/dist-packages (0.11.2)\n",
            "Requirement already satisfied: scipy>=1.0 in /usr/local/lib/python3.7/dist-packages (from seaborn) (1.4.1)\n",
            "Requirement already satisfied: pandas>=0.23 in /usr/local/lib/python3.7/dist-packages (from seaborn) (1.3.5)\n",
            "Requirement already satisfied: numpy>=1.15 in /usr/local/lib/python3.7/dist-packages (from seaborn) (1.21.6)\n",
            "Requirement already satisfied: matplotlib>=2.2 in /usr/local/lib/python3.7/dist-packages (from seaborn) (3.2.2)\n",
            "Requirement already satisfied: pyparsing!=2.0.4,!=2.1.2,!=2.1.6,>=2.0.1 in /usr/local/lib/python3.7/dist-packages (from matplotlib>=2.2->seaborn) (3.0.8)\n",
            "Requirement already satisfied: cycler>=0.10 in /usr/local/lib/python3.7/dist-packages (from matplotlib>=2.2->seaborn) (0.11.0)\n",
            "Requirement already satisfied: kiwisolver>=1.0.1 in /usr/local/lib/python3.7/dist-packages (from matplotlib>=2.2->seaborn) (1.4.2)\n",
            "Requirement already satisfied: python-dateutil>=2.1 in /usr/local/lib/python3.7/dist-packages (from matplotlib>=2.2->seaborn) (2.8.2)\n",
            "Requirement already satisfied: typing-extensions in /usr/local/lib/python3.7/dist-packages (from kiwisolver>=1.0.1->matplotlib>=2.2->seaborn) (4.1.1)\n",
            "Requirement already satisfied: pytz>=2017.3 in /usr/local/lib/python3.7/dist-packages (from pandas>=0.23->seaborn) (2022.1)\n",
            "Requirement already satisfied: six>=1.5 in /usr/local/lib/python3.7/dist-packages (from python-dateutil>=2.1->matplotlib>=2.2->seaborn) (1.15.0)\n",
            "Requirement already satisfied: nltk in /usr/local/lib/python3.7/dist-packages (3.2.5)\n",
            "Requirement already satisfied: six in /usr/local/lib/python3.7/dist-packages (from nltk) (1.15.0)\n",
            "Requirement already satisfied: tensorflow in /usr/local/lib/python3.7/dist-packages (2.8.0)\n",
            "Requirement already satisfied: astunparse>=1.6.0 in /usr/local/lib/python3.7/dist-packages (from tensorflow) (1.6.3)\n",
            "Requirement already satisfied: setuptools in /usr/local/lib/python3.7/dist-packages (from tensorflow) (57.4.0)\n",
            "Requirement already satisfied: termcolor>=1.1.0 in /usr/local/lib/python3.7/dist-packages (from tensorflow) (1.1.0)\n",
            "Requirement already satisfied: libclang>=9.0.1 in /usr/local/lib/python3.7/dist-packages (from tensorflow) (13.0.0)\n",
            "Requirement already satisfied: keras-preprocessing>=1.1.1 in /usr/local/lib/python3.7/dist-packages (from tensorflow) (1.1.2)\n",
            "Requirement already satisfied: wrapt>=1.11.0 in /usr/local/lib/python3.7/dist-packages (from tensorflow) (1.14.0)\n",
            "Requirement already satisfied: google-pasta>=0.1.1 in /usr/local/lib/python3.7/dist-packages (from tensorflow) (0.2.0)\n",
            "Requirement already satisfied: tensorflow-io-gcs-filesystem>=0.23.1 in /usr/local/lib/python3.7/dist-packages (from tensorflow) (0.24.0)\n",
            "Requirement already satisfied: absl-py>=0.4.0 in /usr/local/lib/python3.7/dist-packages (from tensorflow) (1.0.0)\n",
            "Requirement already satisfied: numpy>=1.20 in /usr/local/lib/python3.7/dist-packages (from tensorflow) (1.21.6)\n",
            "Requirement already satisfied: keras<2.9,>=2.8.0rc0 in /usr/local/lib/python3.7/dist-packages (from tensorflow) (2.8.0)\n",
            "Requirement already satisfied: protobuf>=3.9.2 in /usr/local/lib/python3.7/dist-packages (from tensorflow) (3.17.3)\n",
            "Requirement already satisfied: opt-einsum>=2.3.2 in /usr/local/lib/python3.7/dist-packages (from tensorflow) (3.3.0)\n",
            "Requirement already satisfied: h5py>=2.9.0 in /usr/local/lib/python3.7/dist-packages (from tensorflow) (3.1.0)\n",
            "Requirement already satisfied: tf-estimator-nightly==2.8.0.dev2021122109 in /usr/local/lib/python3.7/dist-packages (from tensorflow) (2.8.0.dev2021122109)\n",
            "Requirement already satisfied: six>=1.12.0 in /usr/local/lib/python3.7/dist-packages (from tensorflow) (1.15.0)\n",
            "Requirement already satisfied: tensorboard<2.9,>=2.8 in /usr/local/lib/python3.7/dist-packages (from tensorflow) (2.8.0)\n",
            "Requirement already satisfied: flatbuffers>=1.12 in /usr/local/lib/python3.7/dist-packages (from tensorflow) (2.0)\n",
            "Requirement already satisfied: gast>=0.2.1 in /usr/local/lib/python3.7/dist-packages (from tensorflow) (0.5.3)\n",
            "Requirement already satisfied: grpcio<2.0,>=1.24.3 in /usr/local/lib/python3.7/dist-packages (from tensorflow) (1.44.0)\n",
            "Requirement already satisfied: typing-extensions>=3.6.6 in /usr/local/lib/python3.7/dist-packages (from tensorflow) (4.1.1)\n",
            "Requirement already satisfied: wheel<1.0,>=0.23.0 in /usr/local/lib/python3.7/dist-packages (from astunparse>=1.6.0->tensorflow) (0.37.1)\n",
            "Requirement already satisfied: cached-property in /usr/local/lib/python3.7/dist-packages (from h5py>=2.9.0->tensorflow) (1.5.2)\n",
            "Requirement already satisfied: markdown>=2.6.8 in /usr/local/lib/python3.7/dist-packages (from tensorboard<2.9,>=2.8->tensorflow) (3.3.6)\n",
            "Requirement already satisfied: tensorboard-plugin-wit>=1.6.0 in /usr/local/lib/python3.7/dist-packages (from tensorboard<2.9,>=2.8->tensorflow) (1.8.1)\n",
            "Requirement already satisfied: tensorboard-data-server<0.7.0,>=0.6.0 in /usr/local/lib/python3.7/dist-packages (from tensorboard<2.9,>=2.8->tensorflow) (0.6.1)\n",
            "Requirement already satisfied: werkzeug>=0.11.15 in /usr/local/lib/python3.7/dist-packages (from tensorboard<2.9,>=2.8->tensorflow) (1.0.1)\n",
            "Requirement already satisfied: requests<3,>=2.21.0 in /usr/local/lib/python3.7/dist-packages (from tensorboard<2.9,>=2.8->tensorflow) (2.23.0)\n",
            "Requirement already satisfied: google-auth<3,>=1.6.3 in /usr/local/lib/python3.7/dist-packages (from tensorboard<2.9,>=2.8->tensorflow) (1.35.0)\n",
            "Requirement already satisfied: google-auth-oauthlib<0.5,>=0.4.1 in /usr/local/lib/python3.7/dist-packages (from tensorboard<2.9,>=2.8->tensorflow) (0.4.6)\n",
            "Requirement already satisfied: rsa<5,>=3.1.4 in /usr/local/lib/python3.7/dist-packages (from google-auth<3,>=1.6.3->tensorboard<2.9,>=2.8->tensorflow) (4.8)\n",
            "Requirement already satisfied: pyasn1-modules>=0.2.1 in /usr/local/lib/python3.7/dist-packages (from google-auth<3,>=1.6.3->tensorboard<2.9,>=2.8->tensorflow) (0.2.8)\n",
            "Requirement already satisfied: cachetools<5.0,>=2.0.0 in /usr/local/lib/python3.7/dist-packages (from google-auth<3,>=1.6.3->tensorboard<2.9,>=2.8->tensorflow) (4.2.4)\n",
            "Requirement already satisfied: requests-oauthlib>=0.7.0 in /usr/local/lib/python3.7/dist-packages (from google-auth-oauthlib<0.5,>=0.4.1->tensorboard<2.9,>=2.8->tensorflow) (1.3.1)\n",
            "Requirement already satisfied: importlib-metadata>=4.4 in /usr/local/lib/python3.7/dist-packages (from markdown>=2.6.8->tensorboard<2.9,>=2.8->tensorflow) (4.11.3)\n",
            "Requirement already satisfied: zipp>=0.5 in /usr/local/lib/python3.7/dist-packages (from importlib-metadata>=4.4->markdown>=2.6.8->tensorboard<2.9,>=2.8->tensorflow) (3.8.0)\n",
            "Requirement already satisfied: pyasn1<0.5.0,>=0.4.6 in /usr/local/lib/python3.7/dist-packages (from pyasn1-modules>=0.2.1->google-auth<3,>=1.6.3->tensorboard<2.9,>=2.8->tensorflow) (0.4.8)\n",
            "Requirement already satisfied: certifi>=2017.4.17 in /usr/local/lib/python3.7/dist-packages (from requests<3,>=2.21.0->tensorboard<2.9,>=2.8->tensorflow) (2021.10.8)\n",
            "Requirement already satisfied: idna<3,>=2.5 in /usr/local/lib/python3.7/dist-packages (from requests<3,>=2.21.0->tensorboard<2.9,>=2.8->tensorflow) (2.10)\n",
            "Requirement already satisfied: urllib3!=1.25.0,!=1.25.1,<1.26,>=1.21.1 in /usr/local/lib/python3.7/dist-packages (from requests<3,>=2.21.0->tensorboard<2.9,>=2.8->tensorflow) (1.24.3)\n",
            "Requirement already satisfied: chardet<4,>=3.0.2 in /usr/local/lib/python3.7/dist-packages (from requests<3,>=2.21.0->tensorboard<2.9,>=2.8->tensorflow) (3.0.4)\n",
            "Requirement already satisfied: oauthlib>=3.0.0 in /usr/local/lib/python3.7/dist-packages (from requests-oauthlib>=0.7.0->google-auth-oauthlib<0.5,>=0.4.1->tensorboard<2.9,>=2.8->tensorflow) (3.2.0)\n"
          ]
        }
      ],
      "source": [
        "!pip install gensim\n",
        "!pip install seaborn\n",
        "!pip install nltk\n",
        "!pip install tensorflow"
      ]
    },
    {
      "cell_type": "code",
      "execution_count": null,
      "metadata": {
        "colab": {
          "base_uri": "https://localhost:8080/"
        },
        "id": "Ge1_O173Fhj2",
        "outputId": "b6037e9e-43f1-4a2d-ba3b-99e941225a07"
      },
      "outputs": [
        {
          "output_type": "stream",
          "name": "stdout",
          "text": [
            "[nltk_data] Downloading package stopwords to /root/nltk_data...\n",
            "[nltk_data]   Package stopwords is already up-to-date!\n",
            "[nltk_data] Downloading package wordnet to /root/nltk_data...\n",
            "[nltk_data]   Package wordnet is already up-to-date!\n"
          ]
        },
        {
          "output_type": "execute_result",
          "data": {
            "text/plain": [
              "True"
            ]
          },
          "metadata": {},
          "execution_count": 79
        }
      ],
      "source": [
        "import pandas as pd\n",
        "import numpy as np\n",
        "import sklearn\n",
        "import tensorflow\n",
        "\n",
        "import gensim\n",
        "import nltk\n",
        "\n",
        "nltk.download('stopwords')\n",
        "nltk.download('wordnet')"
      ]
    },
    {
      "cell_type": "code",
      "execution_count": null,
      "metadata": {
        "id": "FIlmBoODFjRc",
        "colab": {
          "base_uri": "https://localhost:8080/"
        },
        "outputId": "1a184a7a-0868-4aee-8593-18bbf5d941c6"
      },
      "outputs": [
        {
          "output_type": "stream",
          "name": "stdout",
          "text": [
            "Drive already mounted at /content/drive; to attempt to forcibly remount, call drive.mount(\"/content/drive\", force_remount=True).\n"
          ]
        }
      ],
      "source": [
        "from google.colab import drive\n",
        "drive.mount('/content/drive')"
      ]
    },
    {
      "cell_type": "code",
      "execution_count": null,
      "metadata": {
        "id": "gElVKN5gFlWx"
      },
      "outputs": [],
      "source": [
        "# constants and global variables\n",
        "DATA_PATH = '/content/drive/MyDrive/Colab Notebooks/MLHC/Project2/Dataset/{}'\n",
        "MODEL_PATH = '/content/drive/MyDrive/Colab Notebooks/MLHC/Project2/Models/{}'\n",
        "\n",
        "is_preprocess_enabled =  True\n",
        "is_w2v_train_enabled =  False\n",
        "is_train_enabled = False"
      ]
    },
    {
      "cell_type": "markdown",
      "metadata": {
        "id": "SJaSyG74i-1D"
      },
      "source": [
        "# Utils"
      ]
    },
    {
      "cell_type": "code",
      "execution_count": null,
      "metadata": {
        "id": "7QocZ-7Ui96l"
      },
      "outputs": [],
      "source": [
        "def save_data_to_file(file_name, data):\n",
        "  with open(DATA_PATH.format(file_name), 'w') as f:\n",
        "      for item in data:\n",
        "          f.write(\"{}\\n\".format(item))\n",
        "\n",
        "import json \n",
        "def read_data(file_name):\n",
        "  return pd.read_csv(DATA_PATH.format(file_name), header=None).values.tolist()"
      ]
    },
    {
      "cell_type": "markdown",
      "metadata": {
        "id": "uMG1vwqpGGEA"
      },
      "source": [
        "# Preprocess of Data"
      ]
    },
    {
      "cell_type": "code",
      "execution_count": null,
      "metadata": {
        "id": "mRYpkD8kGCMI"
      },
      "outputs": [],
      "source": [
        "# clean the dataset, stop word removal, tokenizer etc..\n",
        "if is_preprocess_enabled:\n",
        "\n",
        "  # read the dataset\n",
        "  train = open(DATA_PATH.format(\"train.txt\"), \"r\").readlines()\n",
        "  test = open(DATA_PATH.format(\"test.txt\"), \"r\").readlines()\n",
        "  dev = open(DATA_PATH.format(\"dev.txt\"), \"r\").readlines()\n",
        "  \n",
        "  # Removing ID and empty lines\n",
        "  train = list(filter(lambda x: not x.startswith(('###', '\\n')), train))\n",
        "  test = list(filter(lambda x: not x.startswith(('###', '\\n')), test))\n",
        "  dev = list(filter(lambda x: not x.startswith(('###', '\\n')), dev))\n",
        "\n",
        "  # Building list of lists (and separating first word)\n",
        "  train = list(map(lambda x: x.split('\\t', 1), train))\n",
        "  test = list(map(lambda x: x.split('\\t', 1), test))\n",
        "  dev = list(map(lambda x: x.split('\\t', 1), dev))\n",
        "\n",
        "  # Lowercasing sentence\n",
        "  train = list(map(lambda x:[x[0], x[1].lower()], train))\n",
        "  test = list(map(lambda x:[x[0], x[1].lower()], test))\n",
        "  dev = list(map(lambda x:[x[0], x[1].lower()], dev))\n",
        "\n",
        "  from nltk.tokenize import RegexpTokenizer\n",
        "  # Tokenizing sentence\n",
        "  tokenizer = RegexpTokenizer(r'\\w+')\n",
        "  train = list(map(lambda x:[x[0], tokenizer.tokenize(x[1])], train))\n",
        "  test = list(map(lambda x:[x[0], tokenizer.tokenize(x[1])], test))\n",
        "  dev = list(map(lambda x:[x[0], tokenizer.tokenize(x[1])], dev))\n",
        "\n",
        "  from nltk.corpus import stopwords\n",
        "  # Removing stopwords\n",
        "  stopwords_set = stopwords.words('english')\n",
        "  train = list(map(lambda x:[x[0], [w for w in x[1] if not w in stopwords_set]], train))\n",
        "  test = list(map(lambda x:[x[0], [w for w in x[1] if not w in stopwords_set]], test))\n",
        "  dev = list(map(lambda x:[x[0], [w for w in x[1] if not w in stopwords_set]], dev))\n",
        "\n",
        "  from nltk.stem import WordNetLemmatizer\n",
        "  # Lemmatizing\n",
        "  lemmatizer = WordNetLemmatizer()\n",
        "  train = list(map(lambda x:[x[0], [lemmatizer.lemmatize(w) for w in x[1]]], train))\n",
        "  test = list(map(lambda x:[x[0], [lemmatizer.lemmatize(w) for w in x[1]]], test))\n",
        "  dev = list(map(lambda x:[x[0], [lemmatizer.lemmatize(w) for w in x[1]]], dev))\n",
        "\n",
        "  for i in range(20):\n",
        "    print(test[i])"
      ]
    },
    {
      "cell_type": "code",
      "execution_count": null,
      "metadata": {
        "id": "cJvNMIcfgyoD"
      },
      "outputs": [],
      "source": [
        "if is_preprocess_enabled:\n",
        "  \n",
        "  # devide labels from data\n",
        "  y_train = list(map(lambda x:x[0], train))\n",
        "  train = list(map(lambda x:x[1], train))\n",
        "\n",
        "  y_test = list(map(lambda x:x[0], test))\n",
        "  test = list(map(lambda x:x[1], test))\n",
        "\n",
        "  y_dev = list(map(lambda x:x[0], dev))\n",
        "  dev = list(map(lambda x:x[1], dev))\n",
        "\n",
        "  for i in range(5):\n",
        "    print(test[i])\n",
        "    print(y_test[i])\n",
        "    \n",
        "  # save the labels data to a file\n",
        "  save_data_to_file(\"y_train.txt\", y_train)\n",
        "  save_data_to_file(\"y_test.txt\", y_test)\n",
        "  save_data_to_file(\"y_dev.txt\", y_dev)"
      ]
    },
    {
      "cell_type": "code",
      "execution_count": null,
      "metadata": {
        "id": "pZ_uGT20g5CI"
      },
      "outputs": [],
      "source": [
        "# detect bigrams\n",
        "from gensim.models.phrases import Phrases, Phraser\n",
        "from collections import defaultdict\n",
        "\n",
        "def bigram(words):\n",
        "  phrases = Phrases(words, min_count=5)\n",
        "  bigram = Phraser(phrases) \n",
        "  sentences = bigram[words]\n",
        "\n",
        "  word_freq = defaultdict(int)\n",
        "  for sent in sentences:\n",
        "      for i in sent:\n",
        "          word_freq[i] += 1\n",
        "  print(len(word_freq))\n",
        "\n",
        "  print(sorted(word_freq, key=word_freq.get, reverse=True)[:10])\n",
        "\n",
        "  return sentences\n",
        "  \n",
        "\n",
        "if is_preprocess_enabled:\n",
        "\n",
        "    bigram_train = list(bigram(train))\n",
        "    bigram_test = list(bigram(test))\n",
        "    bigram_dev = list(bigram(dev))\n",
        "\n",
        "    save_data_to_file(\"X_train.txt\", bigram_train)\n",
        "    save_data_to_file(\"X_test.txt\", bigram_test)\n",
        "    save_data_to_file(\"X_dev.txt\", bigram_dev)\n"
      ]
    },
    {
      "cell_type": "markdown",
      "metadata": {
        "id": "bq4x1khoGNIg"
      },
      "source": [
        "# Read Data"
      ]
    },
    {
      "cell_type": "code",
      "execution_count": null,
      "metadata": {
        "colab": {
          "base_uri": "https://localhost:8080/"
        },
        "id": "JwT86K4Kg-EE",
        "outputId": "1f8849ae-cf9a-4588-80ca-572502c19dac"
      },
      "outputs": [
        {
          "output_type": "stream",
          "name": "stdout",
          "text": [
            "['many', 'pathogenic', 'process', 'disease', 'result', 'erroneous', 'activation', 'complement', 'cascade', 'number', 'inhibitor', 'complement', 'thus', 'examined', 'anti_inflammatory', 'action']\n",
            "BACKGROUND\n",
            "\n",
            "['recently', 'demonstrated', 'supraphysiological', 'concentration', 'endogenous', 'complement', 'inhibitor', 'map44', 'also', 'denoted', 'map1', 'protect', 'myocardial', 'reperfusion', 'injury']\n",
            "BACKGROUND\n",
            "\n",
            "['present_study', 'examined', 'association', 'outcome', 'acute_myocardial', 'infarction_mi', 'plasma_level', 'map44', 'related', 'protein', 'masp', '1', 'masp', '3', 'patient', 'first', 'time', 'mi']\n",
            "BACKGROUND\n",
            "\n",
            "['addition', 'compared', 'plasma_level', 'map44', 'masp', '1', 'masp', '3', 'mi', 'patient', 'level', 'healthy', 'control_group']\n",
            "BACKGROUND\n",
            "\n",
            "['total', '192', 'mi', 'patient', '140', 'control', 'person', 'included']\n",
            "METHODS\n",
            "\n",
            "196689 186601 722586 766271 339714\n"
          ]
        }
      ],
      "source": [
        "import ast\n",
        "\n",
        "# read the processed data from the repsective files\n",
        "X_train = open(DATA_PATH.format(\"X_train.txt\"), \"r\").readlines()\n",
        "X_train = list(map(lambda x : ast.literal_eval(x), X_train))\n",
        "\n",
        "X_test = open(DATA_PATH.format(\"X_test.txt\"), \"r\").readlines()\n",
        "X_test = list(map(lambda x : ast.literal_eval(x), X_test))\n",
        "\n",
        "X_dev = open(DATA_PATH.format(\"X_dev.txt\"), \"r\").readlines()\n",
        "X_dev = list(map(lambda x : ast.literal_eval(x), X_dev))\n",
        "\n",
        "# read the labels from the repsective files\n",
        "y_train = open(DATA_PATH.format(\"y_train.txt\"), \"r\").readlines()\n",
        "y_test = open(DATA_PATH.format(\"y_test.txt\"), \"r\").readlines()\n",
        "y_dev = open(DATA_PATH.format(\"y_dev.txt\"), \"r\").readlines()\n",
        "\n",
        "for i in range(0, 5):\n",
        "  print(X_test[i])\n",
        "  print(y_test[i])\n",
        "\n",
        "print(y_train.count(\"BACKGROUND\\n\"), y_train.count(\"OBJECTIVE\\n\"),\n",
        "      y_train.count(\"METHODS\\n\"), y_train.count(\"RESULTS\\n\"),\n",
        "      y_train.count(\"CONCLUSIONS\\n\")\n",
        "      )\n"
      ]
    },
    {
      "cell_type": "markdown",
      "metadata": {
        "id": "x_EfjZK0GSh6"
      },
      "source": [
        "# W2V Model "
      ]
    },
    {
      "cell_type": "code",
      "execution_count": null,
      "metadata": {
        "colab": {
          "base_uri": "https://localhost:8080/"
        },
        "id": "dl11jTV2GQ1A",
        "outputId": "226281b2-ecb7-4d87-93eb-c7b674e6780b"
      },
      "outputs": [
        {
          "output_type": "stream",
          "name": "stdout",
          "text": [
            "4\n"
          ]
        }
      ],
      "source": [
        "from gensim.models import Word2Vec\n",
        "import multiprocessing\n",
        "\n",
        "# Count the number of cores in the computer\n",
        "cores = multiprocessing.cpu_count()\n",
        "print(cores)\n",
        "\n",
        "# define the  W2V model\n",
        "w2v_model = Word2Vec(min_count=10,\n",
        "                     window=2,\n",
        "                     size=200,\n",
        "                     sample=6e-5, \n",
        "                     alpha=0.03, \n",
        "                     min_alpha=0.0007, \n",
        "                     negative=20,\n",
        "                     workers=cores-1)"
      ]
    },
    {
      "cell_type": "code",
      "execution_count": null,
      "metadata": {
        "id": "tlAOpLr-GW88"
      },
      "outputs": [],
      "source": [
        "#  build the vocabulary table\n",
        "if is_w2v_train_enabled:\n",
        "  w2v_model.build_vocab(X_train)"
      ]
    },
    {
      "cell_type": "code",
      "execution_count": null,
      "metadata": {
        "id": "vINC9RC6GYYt"
      },
      "outputs": [],
      "source": [
        "if is_w2v_train_enabled:\n",
        "  # train the model\n",
        "  w2v_model.train(X_train, total_examples=w2v_model.corpus_count, epochs=30, report_delay=1)\n",
        "  # since we don't plan to train the model any further, we use this function to make the model more memory efficient\n",
        "  # model.init_sims(replace=True)\n",
        "\n",
        "  # save the model to a file so that it can be reused without being trained from scratch\n",
        "  w2v_model.save(MODEL_PATH.format(\"word2vec.model\"))"
      ]
    },
    {
      "cell_type": "code",
      "execution_count": null,
      "metadata": {
        "id": "DS514zEhGZ90"
      },
      "outputs": [],
      "source": [
        "# load the trained model\n",
        "w2v_model = Word2Vec.load(MODEL_PATH.format(\"word2vec.model\"))"
      ]
    },
    {
      "cell_type": "markdown",
      "metadata": {
        "id": "7xnDDALKGbkl"
      },
      "source": [
        "# Data Visualization"
      ]
    },
    {
      "cell_type": "code",
      "source": [
        "# check which words are most similar to\n",
        "w2v_model.wv.most_similar(positive=[\"doctor\"])"
      ],
      "metadata": {
        "colab": {
          "base_uri": "https://localhost:8080/"
        },
        "id": "eIK38FZdUnXw",
        "outputId": "41cdab6a-bb42-4c34-a927-d123b67a1b83"
      },
      "execution_count": null,
      "outputs": [
        {
          "output_type": "execute_result",
          "data": {
            "text/plain": [
              "[('physician', 0.8236269354820251),\n",
              " ('provider', 0.7038102746009827),\n",
              " ('gps', 0.7001214027404785),\n",
              " ('practitioner', 0.6999229192733765),\n",
              " ('general_practitioner', 0.689647912979126),\n",
              " ('health_professional', 0.6873944997787476),\n",
              " ('clinician', 0.686844527721405),\n",
              " ('healthcare_professional', 0.668042004108429),\n",
              " ('nurse', 0.6473983526229858),\n",
              " ('dentist', 0.6461185216903687)]"
            ]
          },
          "metadata": {},
          "execution_count": 71
        }
      ]
    },
    {
      "cell_type": "code",
      "execution_count": null,
      "metadata": {
        "id": "or5mWFBKGe28",
        "colab": {
          "base_uri": "https://localhost:8080/"
        },
        "outputId": "a797576e-58f2-4cfa-e64d-8caaedcc383e"
      },
      "outputs": [
        {
          "output_type": "execute_result",
          "data": {
            "text/plain": [
              "[('hiv_infection', 0.6985517144203186),\n",
              " ('virus_hiv', 0.670617938041687),\n",
              " ('hiv_positive', 0.6353288888931274),\n",
              " ('hiv_aid', 0.6349366903305054),\n",
              " ('human_immunodeficiency', 0.626133918762207),\n",
              " ('hsv_2', 0.6142750978469849),\n",
              " ('hiv_hcv', 0.5942251682281494),\n",
              " ('hcv', 0.5893586874008179),\n",
              " ('hiv_infected', 0.5699068307876587),\n",
              " ('virus_hcv', 0.5647152662277222)]"
            ]
          },
          "metadata": {},
          "execution_count": 72
        }
      ],
      "source": [
        "# check which words are most similar to\n",
        "w2v_model.wv.most_similar(positive=[\"hiv\"])"
      ]
    },
    {
      "cell_type": "code",
      "execution_count": null,
      "metadata": {
        "id": "1UWUKW7FGgrm",
        "colab": {
          "base_uri": "https://localhost:8080/"
        },
        "outputId": "3f2668b8-e2df-4209-d438-984bef5d4613"
      },
      "outputs": [
        {
          "output_type": "execute_result",
          "data": {
            "text/plain": [
              "0.8236269"
            ]
          },
          "metadata": {},
          "execution_count": 73
        }
      ],
      "source": [
        "# return a number representing how much these two words are similar\n",
        "w2v_model.wv.similarity(\"doctor\", 'physician')"
      ]
    },
    {
      "cell_type": "code",
      "execution_count": null,
      "metadata": {
        "id": "-qwTUXM6GiM0",
        "colab": {
          "base_uri": "https://localhost:8080/",
          "height": 91
        },
        "outputId": "5f86cf0b-58be-4060-dead-1464ff952ac2"
      },
      "outputs": [
        {
          "output_type": "stream",
          "name": "stderr",
          "text": [
            "/usr/local/lib/python3.7/dist-packages/gensim/models/keyedvectors.py:895: FutureWarning: arrays to stack must be passed as a \"sequence\" type such as list or tuple. Support for non-sequence iterables such as generators is deprecated as of NumPy 1.16 and will raise an error in the future.\n",
            "  vectors = vstack(self.word_vec(word, use_norm=True) for word in used_words).astype(REAL)\n"
          ]
        },
        {
          "output_type": "execute_result",
          "data": {
            "text/plain": [
              "'doctor'"
            ],
            "application/vnd.google.colaboratory.intrinsic+json": {
              "type": "string"
            }
          },
          "metadata": {},
          "execution_count": 74
        }
      ],
      "source": [
        "# return the word that is least similar to the others in the list\n",
        "w2v_model.wv.doesnt_match(['doctor', 'disease', 'patient'])"
      ]
    },
    {
      "cell_type": "code",
      "execution_count": null,
      "metadata": {
        "id": "mmuCdJe1Gj2-",
        "colab": {
          "base_uri": "https://localhost:8080/"
        },
        "outputId": "d0736142-4a94-4e6b-dbe7-2afb1c5fe9eb"
      },
      "outputs": [
        {
          "output_type": "execute_result",
          "data": {
            "text/plain": [
              "[('hiv_prevention', 1.0181084871292114),\n",
              " ('carraguard', 1.015748381614685),\n",
              " ('condom', 1.0145106315612793),\n",
              " ('female_condom', 1.0038479566574097),\n",
              " ('couple_focused', 0.9761003851890564),\n",
              " ('contraceptive', 0.9611024260520935),\n",
              " ('male_condom', 0.9560536742210388),\n",
              " ('hiv_testing', 0.9547287821769714),\n",
              " ('hiv_std', 0.9499512910842896),\n",
              " ('hpv_vaccine', 0.9468787908554077)]"
            ]
          },
          "metadata": {},
          "execution_count": 75
        }
      ],
      "source": [
        "# which word is to prep as hiv is to immunodeficiency\n",
        "w2v_model.wv.most_similar_cosmul(positive=[\"hiv\", \"prep\"], negative=[\"immunodeficiency\"], topn=10)"
      ]
    },
    {
      "cell_type": "code",
      "execution_count": null,
      "metadata": {
        "id": "n41NgbgnGl3P"
      },
      "outputs": [],
      "source": [
        "import matplotlib.pyplot as plt\n",
        "%matplotlib inline\n",
        " \n",
        "import seaborn as sns\n",
        "sns.set_style(\"darkgrid\")\n",
        "\n",
        "from sklearn.decomposition import PCA\n",
        "from sklearn.manifold import TSNE\n",
        "\n",
        "# draw words on a graph. Similar words  are close together in the graph.\n",
        "def tsnescatterplot(model, word, list_names):\n",
        "    \"\"\" Plot in seaborn the results from the t-SNE dimensionality reduction algorithm of the vectors of a query word,\n",
        "    its list of most similar words, and a list of words.\n",
        "    \"\"\"\n",
        "    arrays = np.empty((0, w2v_model.vector_size), dtype='f')\n",
        "    word_labels = [word]\n",
        "    color_list  = ['red']\n",
        "\n",
        "    # adds the vector of the query word\n",
        "    arrays = np.append(arrays, model.wv.__getitem__([word]), axis=0)\n",
        "    \n",
        "    # gets list of most similar words\n",
        "    close_words = model.wv.most_similar([word])\n",
        "    \n",
        "    # adds the vector for each of the closest words to the array\n",
        "    for wrd_score in close_words:\n",
        "        wrd_vector = model.wv.__getitem__([wrd_score[0]])\n",
        "        word_labels.append(wrd_score[0])\n",
        "        color_list.append('blue')\n",
        "        arrays = np.append(arrays, wrd_vector, axis=0)\n",
        "    \n",
        "    # adds the vector for each of the words from list_names to the array\n",
        "    for wrd in list_names:\n",
        "        wrd_vector = model.wv.__getitem__([wrd])\n",
        "        word_labels.append(wrd)\n",
        "        color_list.append('green')\n",
        "        arrays = np.append(arrays, wrd_vector, axis=0)\n",
        "        \n",
        "    # Reduces the dimensionality from 300 to 50 dimensions with PCA\n",
        "    reduc = PCA(n_components=19).fit_transform(arrays)\n",
        "    \n",
        "    # Finds t-SNE coordinates for 2 dimensions\n",
        "    np.set_printoptions(suppress=True)\n",
        "    \n",
        "    Y = TSNE(n_components=2, random_state=0, perplexity=15).fit_transform(reduc)\n",
        "    \n",
        "    # Sets everything up to plot\n",
        "    df = pd.DataFrame({'x': [x for x in Y[:, 0]],\n",
        "                       'y': [y for y in Y[:, 1]],\n",
        "                       'words': word_labels,\n",
        "                       'color': color_list})\n",
        "    \n",
        "    fig, _ = plt.subplots()\n",
        "    fig.set_size_inches(9, 9)\n",
        "    \n",
        "    # Basic plot\n",
        "    p1 = sns.regplot(data=df,\n",
        "                     x=\"x\",\n",
        "                     y=\"y\",\n",
        "                     fit_reg=False,\n",
        "                     marker=\"o\",\n",
        "                     scatter_kws={'s': 40,\n",
        "                                  'facecolors': df['color']\n",
        "                                 }\n",
        "                    )\n",
        "    \n",
        "    # Adds annotations one by one with a loop\n",
        "    for line in range(0, df.shape[0]):\n",
        "         p1.text(df[\"x\"][line],\n",
        "                 df['y'][line],\n",
        "                 '  ' + df[\"words\"][line].title(),\n",
        "                 horizontalalignment='left',\n",
        "                 verticalalignment='bottom', size='medium',\n",
        "                 color=df['color'][line],\n",
        "                 weight='normal'\n",
        "                ).set_size(15)\n",
        "\n",
        "    \n",
        "    plt.xlim(Y[:, 0].min()-50, Y[:, 0].max()+50)\n",
        "    plt.ylim(Y[:, 1].min()-50, Y[:, 1].max()+50)\n",
        "            \n",
        "    plt.title('t-SNE visualization for {}'.format(word.title()))"
      ]
    },
    {
      "cell_type": "code",
      "execution_count": null,
      "metadata": {
        "id": "gOvjYYtPGv6l",
        "colab": {
          "base_uri": "https://localhost:8080/",
          "height": 635
        },
        "outputId": "2a309405-ec60-47f3-9830-77cda2571446"
      },
      "outputs": [
        {
          "output_type": "stream",
          "name": "stderr",
          "text": [
            "/usr/local/lib/python3.7/dist-packages/sklearn/manifold/_t_sne.py:783: FutureWarning: The default initialization in TSNE will change from 'random' to 'pca' in 1.2.\n",
            "  FutureWarning,\n",
            "/usr/local/lib/python3.7/dist-packages/sklearn/manifold/_t_sne.py:793: FutureWarning: The default learning rate in TSNE will change from 200.0 to 'auto' in 1.2.\n",
            "  FutureWarning,\n"
          ]
        },
        {
          "output_type": "display_data",
          "data": {
            "text/plain": [
              "<Figure size 648x648 with 1 Axes>"
            ],
            "image/png": "[encoded data removed]"
          },
          "metadata": {}
        }
      ],
      "source": [
        "# visualize the 10 most similar words to doctor and 8 random words\n",
        "tsnescatterplot(w2v_model, 'doctor', ['dog', 'bird', 'table', 'watch', 'pen', 'plant', 'bottle', 'backpack'])"
      ]
    },
    {
      "cell_type": "markdown",
      "metadata": {
        "id": "AY5GhB2FGzxL"
      },
      "source": [
        "# Obtain sentece embeddings by averaging or concatenating word embeddings"
      ]
    },
    {
      "cell_type": "code",
      "execution_count": null,
      "metadata": {
        "id": "CPl4KuuSGyjN"
      },
      "outputs": [],
      "source": [
        "# given a list of sentences, for each sentence compute its emebedding by\n",
        "# computing the embedding of each word in the sentence and then divide by the\n",
        "# length of the phrase\n",
        "def generate_senteces_embeddings(X):\n",
        "  \n",
        "  sentences_embedding = []\n",
        "  # for each sentence in the set\n",
        "  for sentence in X:\n",
        "    sentence_length = len(sentence)\n",
        "    # this variable will hold the sum of each word embedding in the current phrase\n",
        "    sentence_embedding = np.zeros(w2v_model.vector_size)\n",
        "    # for each word in the sentence\n",
        "    for word in sentence:\n",
        "      # embedding of the current word\n",
        "      word_embedding = np.zeros(w2v_model.vector_size)\n",
        "\n",
        "      # compute the embedding of the current word. This is not always possible as\n",
        "      # not every word is in our dictionary. If this is not possible I simply discard\n",
        "      # the word and decrese the sentence length by 1. \n",
        "      try:\n",
        "        word_embedding = w2v_model.wv[word]\n",
        "      except KeyError:\n",
        "        sentence_length = sentence_length - 1\n",
        "      \n",
        "      sentence_embedding = sentence_embedding + word_embedding \n",
        "    \n",
        "    # in our dataset there are some (very few) length 1 sentences\n",
        "    # with one single word that is not part of the model vocabulary.\n",
        "    # In order to prevent a divison by 0, this if stattement is necessary.\n",
        "    if sentence_length == 0:\n",
        "      sentence_embedding = np.zeros(w2v_model.vector_size)\n",
        "    else:\n",
        "      sentence_embedding = sentence_embedding / sentence_length\n",
        "\n",
        "    # add the sentence embedding to the list that will be returned\n",
        "    sentences_embedding.append(np.array(sentence_embedding))\n",
        "  \n",
        "\n",
        "  return sentences_embedding\n",
        "\n",
        "X_train_se = np.array(generate_senteces_embeddings(X_train))\n",
        "X_test_se = np.array(generate_senteces_embeddings(X_test))\n",
        "X_dev_se = np.array(generate_senteces_embeddings(X_dev))\n",
        "\n",
        "\n"
      ]
    },
    {
      "cell_type": "markdown",
      "metadata": {
        "id": "OgYOogBgHQPa"
      },
      "source": [
        "# Create Models to perform prediction of different classes"
      ]
    },
    {
      "cell_type": "code",
      "execution_count": null,
      "metadata": {
        "id": "xo1e2TSkHT_y"
      },
      "outputs": [],
      "source": [
        "# perform one hot encoding\n",
        "from tensorflow.keras.utils import to_categorical\n",
        "\n",
        "labels = ['BACKGROUND', \"OBJECTIVE\", \"METHODS\", \"RESULTS\", \"CONCLUSIONS\"]\n",
        "\n",
        "# map each label to an integer\n",
        "mapping = {}\n",
        "for x in range(len(labels)):\n",
        "  mapping[labels[x]] = x\n",
        "\n",
        "def from_label_to_integer(y):\n",
        "  y = list(y)\n",
        "  for x in range(len(y)):\n",
        "    y[x] = int(mapping[y[x].strip(\"\\n\")])\n",
        "  \n",
        "  return y\n",
        "\n",
        "\n",
        "y_train = np.argmax(np.array(to_categorical(from_label_to_integer(y_train))), axis=-1)\n",
        "y_test = np.argmax(np.array(to_categorical(from_label_to_integer(y_test))), axis=-1)\n",
        "y_dev = np.argmax(np.array(to_categorical(from_label_to_integer(y_dev))), axis=-1)"
      ]
    },
    {
      "cell_type": "markdown",
      "metadata": {
        "id": "ndmrYUaQdZPh"
      },
      "source": [
        "## SVC"
      ]
    },
    {
      "cell_type": "code",
      "execution_count": null,
      "metadata": {
        "id": "Oh-UlAP7ddJX"
      },
      "outputs": [],
      "source": [
        "from joblib import dump, load\n",
        "from sklearn.svm import LinearSVC\n",
        "\n",
        "model = LinearSVC(penalty='l1', dual=False, class_weight='balanced', fit_intercept=True, C=1, random_state=42, tol=1e-5)\n",
        "\n",
        "if is_train_enabled:\n",
        "  model.fit(X_train_se, y_train)\n",
        "  dump(model, MODEL_PATH.format('svc.joblib'))\n",
        "\n",
        "model = load(MODEL_PATH.format('svc.joblib'))"
      ]
    },
    {
      "cell_type": "code",
      "execution_count": null,
      "metadata": {
        "id": "HRcpfYKids9M"
      },
      "outputs": [],
      "source": [
        "from sklearn.metrics import f1_score, accuracy_score\n",
        "\n",
        "y_pred = model.predict(X_test_se)\n",
        "\n",
        "f1 = f1_score(y_test, y_pred, average=\"macro\")\n",
        "\n",
        "print(\"Test f1 score : %s \"% f1)\n",
        "\n",
        "f1_w = f1_score(y_test, y_pred, average=\"weighted\")\n",
        "\n",
        "print(\"Test f1 weighted score : %s \"% f1_w)\n",
        "\n",
        "acc = accuracy_score(y_test, y_pred)\n",
        "\n",
        "print(\"Test accuracy score : %s \"% acc)"
      ]
    },
    {
      "cell_type": "code",
      "source": [
        "from sklearn.metrics import ConfusionMatrixDisplay, confusion_matrix\n",
        "import matplotlib.pyplot as plt\n",
        "\n",
        "# Plotting confusion matrix\n",
        "cm = confusion_matrix(y_test, y_pred)\n",
        "\n",
        "disp = ConfusionMatrixDisplay(confusion_matrix=cm, display_labels=[0,1,2,3])\n",
        "\n",
        "disp.plot(cmap=plt.cm.Blues)\n",
        "plt.show()"
      ],
      "metadata": {
        "id": "l708BFwsaDcK"
      },
      "execution_count": null,
      "outputs": []
    },
    {
      "cell_type": "markdown",
      "metadata": {
        "id": "r09kD1UEH2JW"
      },
      "source": [
        "## Feed Forward Neural Network"
      ]
    },
    {
      "cell_type": "code",
      "execution_count": null,
      "metadata": {
        "id": "3zmEiqmIIKDI",
        "colab": {
          "base_uri": "https://localhost:8080/"
        },
        "outputId": "cb02c925-ffa6-487c-f6b3-204889cee39f"
      },
      "outputs": [
        {
          "output_type": "stream",
          "name": "stdout",
          "text": [
            "Model: \"sequential_2\"\n",
            "_________________________________________________________________\n",
            " Layer (type)                Output Shape              Param #   \n",
            "=================================================================\n",
            " dense_22 (Dense)            (None, 512)               102912    \n",
            "                                                                 \n",
            " dense_23 (Dense)            (None, 512)               262656    \n",
            "                                                                 \n",
            " dropout_8 (Dropout)         (None, 512)               0         \n",
            "                                                                 \n",
            " dense_24 (Dense)            (None, 256)               131328    \n",
            "                                                                 \n",
            " dense_25 (Dense)            (None, 256)               65792     \n",
            "                                                                 \n",
            " dropout_9 (Dropout)         (None, 256)               0         \n",
            "                                                                 \n",
            " dense_26 (Dense)            (None, 128)               32896     \n",
            "                                                                 \n",
            " dense_27 (Dense)            (None, 128)               16512     \n",
            "                                                                 \n",
            " dropout_10 (Dropout)        (None, 128)               0         \n",
            "                                                                 \n",
            " dense_28 (Dense)            (None, 64)                8256      \n",
            "                                                                 \n",
            " dense_29 (Dense)            (None, 64)                4160      \n",
            "                                                                 \n",
            " dropout_11 (Dropout)        (None, 64)                0         \n",
            "                                                                 \n",
            " dense_30 (Dense)            (None, 32)                2080      \n",
            "                                                                 \n",
            " dense_31 (Dense)            (None, 32)                1056      \n",
            "                                                                 \n",
            " dense_32 (Dense)            (None, 5)                 165       \n",
            "                                                                 \n",
            "=================================================================\n",
            "Total params: 627,813\n",
            "Trainable params: 627,813\n",
            "Non-trainable params: 0\n",
            "_________________________________________________________________\n"
          ]
        }
      ],
      "source": [
        "from tensorflow.keras.models import Sequential\n",
        "from tensorflow.keras.layers import Dense, Dropout\n",
        "\n",
        "model = Sequential()\n",
        "model.add(Dense(512, input_dim=w2v_model.vector_size, activation='relu'))\n",
        "model.add(Dense(512, activation='relu'))\n",
        "model.add(Dropout(0.2))\n",
        "model.add(Dense(256, activation='relu'))\n",
        "model.add(Dense(256, activation='relu'))\n",
        "model.add(Dropout(0.2))\n",
        "model.add(Dense(128, activation='relu'))\n",
        "model.add(Dense(128, activation='relu'))\n",
        "model.add(Dropout(0.2))\n",
        "model.add(Dense(64,  activation='relu'))\n",
        "model.add(Dense(64,  activation='relu'))\n",
        "model.add(Dropout(0.2))\n",
        "model.add(Dense(32, activation='relu'))\n",
        "model.add(Dense(32, activation='relu'))\n",
        "model.add(Dense(5, activation='softmax'))\n",
        "\n",
        "model.compile(\n",
        "  optimizer='adam',\n",
        "  loss='sparse_categorical_crossentropy',\n",
        "  metrics=['accuracy'],\n",
        ")\n",
        "\n",
        "tensorflow.keras.utils.plot_model(model, show_shapes=True, dpi=64)\n",
        "model.count_params()\n",
        "model.summary()"
      ]
    },
    {
      "cell_type": "code",
      "execution_count": null,
      "metadata": {
        "id": "tmWpl6qxIYNb",
        "colab": {
          "base_uri": "https://localhost:8080/"
        },
        "outputId": "7594e1db-5370-459c-e8e2-dd66b4dd505f"
      },
      "outputs": [
        {
          "output_type": "stream",
          "name": "stdout",
          "text": [
            "Epoch 1/100\n",
            "17278/17281 [============================>.] - ETA: 0s - loss: 0.5969 - accuracy: 0.7816\n",
            "Epoch 1: val_accuracy improved from -inf to 0.77755, saving model to /content/drive/MyDrive/Colab Notebooks/MLHC/Project2/Models/MLP_task2.h5\n",
            "17281/17281 [==============================] - 62s 3ms/step - loss: 0.5969 - accuracy: 0.7816 - val_loss: 0.5862 - val_accuracy: 0.7775 - lr: 0.0010\n",
            "Epoch 2/100\n",
            "17275/17281 [============================>.] - ETA: 0s - loss: 0.5519 - accuracy: 0.7974\n",
            "Epoch 2: val_accuracy improved from 0.77755 to 0.78615, saving model to /content/drive/MyDrive/Colab Notebooks/MLHC/Project2/Models/MLP_task2.h5\n",
            "17281/17281 [==============================] - 57s 3ms/step - loss: 0.5519 - accuracy: 0.7974 - val_loss: 0.5793 - val_accuracy: 0.7862 - lr: 0.0010\n",
            "Epoch 3/100\n",
            "17274/17281 [============================>.] - ETA: 0s - loss: 0.5417 - accuracy: 0.8010\n",
            "Epoch 3: val_accuracy did not improve from 0.78615\n",
            "17281/17281 [==============================] - 57s 3ms/step - loss: 0.5417 - accuracy: 0.8010 - val_loss: 0.5765 - val_accuracy: 0.7820 - lr: 0.0010\n",
            "Epoch 4/100\n",
            "17278/17281 [============================>.] - ETA: 0s - loss: 0.5379 - accuracy: 0.8023\n",
            "Epoch 4: val_accuracy did not improve from 0.78615\n",
            "17281/17281 [==============================] - 57s 3ms/step - loss: 0.5379 - accuracy: 0.8023 - val_loss: 0.5736 - val_accuracy: 0.7849 - lr: 0.0010\n",
            "Epoch 5/100\n",
            "17279/17281 [============================>.] - ETA: 0s - loss: 0.5348 - accuracy: 0.8037\n",
            "Epoch 5: val_accuracy improved from 0.78615 to 0.78951, saving model to /content/drive/MyDrive/Colab Notebooks/MLHC/Project2/Models/MLP_task2.h5\n",
            "17281/17281 [==============================] - 58s 3ms/step - loss: 0.5348 - accuracy: 0.8037 - val_loss: 0.5720 - val_accuracy: 0.7895 - lr: 0.0010\n",
            "Epoch 6/100\n",
            "17281/17281 [==============================] - ETA: 0s - loss: 0.5332 - accuracy: 0.8044\n",
            "Epoch 6: val_accuracy did not improve from 0.78951\n",
            "17281/17281 [==============================] - 57s 3ms/step - loss: 0.5332 - accuracy: 0.8044 - val_loss: 0.5705 - val_accuracy: 0.7857 - lr: 0.0010\n",
            "Epoch 7/100\n",
            "17271/17281 [============================>.] - ETA: 0s - loss: 0.5389 - accuracy: 0.8024\n",
            "Epoch 7: val_accuracy did not improve from 0.78951\n",
            "17281/17281 [==============================] - 57s 3ms/step - loss: 0.5389 - accuracy: 0.8024 - val_loss: 0.5728 - val_accuracy: 0.7872 - lr: 0.0010\n",
            "Epoch 8/100\n",
            "17269/17281 [============================>.] - ETA: 0s - loss: 0.5399 - accuracy: 0.8025\n",
            "Epoch 8: val_accuracy did not improve from 0.78951\n",
            "\n",
            "Epoch 8: ReduceLROnPlateau reducing learning rate to 0.00010000000474974513.\n",
            "17281/17281 [==============================] - 57s 3ms/step - loss: 0.5399 - accuracy: 0.8025 - val_loss: 0.5715 - val_accuracy: 0.7872 - lr: 0.0010\n",
            "Epoch 9/100\n",
            "17278/17281 [============================>.] - ETA: 0s - loss: 0.5155 - accuracy: 0.8105\n",
            "Epoch 9: val_accuracy improved from 0.78951 to 0.79448, saving model to /content/drive/MyDrive/Colab Notebooks/MLHC/Project2/Models/MLP_task2.h5\n",
            "17281/17281 [==============================] - 59s 3ms/step - loss: 0.5155 - accuracy: 0.8105 - val_loss: 0.5523 - val_accuracy: 0.7945 - lr: 1.0000e-04\n",
            "Epoch 10/100\n",
            "17270/17281 [============================>.] - ETA: 0s - loss: 0.5071 - accuracy: 0.8138\n",
            "Epoch 10: val_accuracy did not improve from 0.79448\n",
            "17281/17281 [==============================] - 57s 3ms/step - loss: 0.5071 - accuracy: 0.8138 - val_loss: 0.5492 - val_accuracy: 0.7942 - lr: 1.0000e-04\n",
            "Epoch 11/100\n",
            "17281/17281 [==============================] - ETA: 0s - loss: 0.5026 - accuracy: 0.8151\n",
            "Epoch 11: val_accuracy did not improve from 0.79448\n",
            "17281/17281 [==============================] - 58s 3ms/step - loss: 0.5026 - accuracy: 0.8151 - val_loss: 0.5488 - val_accuracy: 0.7938 - lr: 1.0000e-04\n",
            "Epoch 12/100\n",
            "17274/17281 [============================>.] - ETA: 0s - loss: 0.4998 - accuracy: 0.8161\n",
            "Epoch 12: val_accuracy improved from 0.79448 to 0.79552, saving model to /content/drive/MyDrive/Colab Notebooks/MLHC/Project2/Models/MLP_task2.h5\n",
            "17281/17281 [==============================] - 58s 3ms/step - loss: 0.4998 - accuracy: 0.8161 - val_loss: 0.5471 - val_accuracy: 0.7955 - lr: 1.0000e-04\n",
            "Epoch 13/100\n",
            "17270/17281 [============================>.] - ETA: 0s - loss: 0.4976 - accuracy: 0.8166\n",
            "Epoch 13: val_accuracy did not improve from 0.79552\n",
            "17281/17281 [==============================] - 57s 3ms/step - loss: 0.4976 - accuracy: 0.8166 - val_loss: 0.5467 - val_accuracy: 0.7953 - lr: 1.0000e-04\n",
            "Epoch 14/100\n",
            "17275/17281 [============================>.] - ETA: 0s - loss: 0.4958 - accuracy: 0.8175\n",
            "Epoch 14: val_accuracy improved from 0.79552 to 0.79687, saving model to /content/drive/MyDrive/Colab Notebooks/MLHC/Project2/Models/MLP_task2.h5\n",
            "17281/17281 [==============================] - 58s 3ms/step - loss: 0.4958 - accuracy: 0.8175 - val_loss: 0.5442 - val_accuracy: 0.7969 - lr: 1.0000e-04\n",
            "Epoch 15/100\n",
            "17279/17281 [============================>.] - ETA: 0s - loss: 0.4937 - accuracy: 0.8183\n",
            "Epoch 15: val_accuracy did not improve from 0.79687\n",
            "17281/17281 [==============================] - 57s 3ms/step - loss: 0.4937 - accuracy: 0.8183 - val_loss: 0.5456 - val_accuracy: 0.7965 - lr: 1.0000e-04\n",
            "Epoch 16/100\n",
            "17278/17281 [============================>.] - ETA: 0s - loss: 0.4923 - accuracy: 0.8189\n",
            "Epoch 16: val_accuracy improved from 0.79687 to 0.79808, saving model to /content/drive/MyDrive/Colab Notebooks/MLHC/Project2/Models/MLP_task2.h5\n",
            "17281/17281 [==============================] - 58s 3ms/step - loss: 0.4923 - accuracy: 0.8189 - val_loss: 0.5430 - val_accuracy: 0.7981 - lr: 1.0000e-04\n",
            "Epoch 17/100\n",
            "17267/17281 [============================>.] - ETA: 0s - loss: 0.4908 - accuracy: 0.8190\n",
            "Epoch 17: val_accuracy did not improve from 0.79808\n",
            "17281/17281 [==============================] - 57s 3ms/step - loss: 0.4909 - accuracy: 0.8190 - val_loss: 0.5442 - val_accuracy: 0.7978 - lr: 1.0000e-04\n",
            "Epoch 18/100\n",
            "17268/17281 [============================>.] - ETA: 0s - loss: 0.4894 - accuracy: 0.8196\n",
            "Epoch 18: val_accuracy did not improve from 0.79808\n",
            "17281/17281 [==============================] - 57s 3ms/step - loss: 0.4894 - accuracy: 0.8196 - val_loss: 0.5446 - val_accuracy: 0.7980 - lr: 1.0000e-04\n",
            "Epoch 19/100\n",
            "17274/17281 [============================>.] - ETA: 0s - loss: 0.4881 - accuracy: 0.8201\n",
            "Epoch 19: val_accuracy did not improve from 0.79808\n",
            "\n",
            "Epoch 19: ReduceLROnPlateau reducing learning rate to 1.0000000474974514e-05.\n",
            "17281/17281 [==============================] - 58s 3ms/step - loss: 0.4882 - accuracy: 0.8201 - val_loss: 0.5449 - val_accuracy: 0.7971 - lr: 1.0000e-04\n",
            "Epoch 20/100\n",
            "17279/17281 [============================>.] - ETA: 0s - loss: 0.4856 - accuracy: 0.8211\n",
            "Epoch 20: val_accuracy improved from 0.79808 to 0.79815, saving model to /content/drive/MyDrive/Colab Notebooks/MLHC/Project2/Models/MLP_task2.h5\n",
            "17281/17281 [==============================] - 58s 3ms/step - loss: 0.4856 - accuracy: 0.8211 - val_loss: 0.5431 - val_accuracy: 0.7981 - lr: 1.0000e-05\n",
            "Epoch 21/100\n",
            "17279/17281 [============================>.] - ETA: 0s - loss: 0.4851 - accuracy: 0.8212\n",
            "Epoch 21: val_accuracy improved from 0.79815 to 0.79839, saving model to /content/drive/MyDrive/Colab Notebooks/MLHC/Project2/Models/MLP_task2.h5\n",
            "17281/17281 [==============================] - 58s 3ms/step - loss: 0.4851 - accuracy: 0.8212 - val_loss: 0.5434 - val_accuracy: 0.7984 - lr: 1.0000e-05\n",
            "Epoch 22/100\n",
            "17276/17281 [============================>.] - ETA: 0s - loss: 0.4845 - accuracy: 0.8213\n",
            "Epoch 22: val_accuracy did not improve from 0.79839\n",
            "17281/17281 [==============================] - 57s 3ms/step - loss: 0.4845 - accuracy: 0.8213 - val_loss: 0.5431 - val_accuracy: 0.7983 - lr: 1.0000e-05\n",
            "Epoch 23/100\n",
            "17267/17281 [============================>.] - ETA: 0s - loss: 0.4842 - accuracy: 0.8214\n",
            "Epoch 23: val_accuracy did not improve from 0.79839\n",
            "17281/17281 [==============================] - 57s 3ms/step - loss: 0.4843 - accuracy: 0.8214 - val_loss: 0.5432 - val_accuracy: 0.7983 - lr: 1.0000e-05\n",
            "Epoch 24/100\n",
            "17275/17281 [============================>.] - ETA: 0s - loss: 0.4839 - accuracy: 0.8216\n",
            "Epoch 24: val_accuracy did not improve from 0.79839\n",
            "\n",
            "Epoch 24: ReduceLROnPlateau reducing learning rate to 1.0000000656873453e-06.\n",
            "17281/17281 [==============================] - 58s 3ms/step - loss: 0.4839 - accuracy: 0.8216 - val_loss: 0.5430 - val_accuracy: 0.7980 - lr: 1.0000e-05\n",
            "Epoch 25/100\n",
            "17270/17281 [============================>.] - ETA: 0s - loss: 0.4838 - accuracy: 0.8216\n",
            "Epoch 25: val_accuracy did not improve from 0.79839\n",
            "17281/17281 [==============================] - 57s 3ms/step - loss: 0.4838 - accuracy: 0.8216 - val_loss: 0.5429 - val_accuracy: 0.7980 - lr: 1.0000e-06\n",
            "Epoch 26/100\n",
            "17278/17281 [============================>.] - ETA: 0s - loss: 0.4835 - accuracy: 0.8216\n",
            "Epoch 26: val_accuracy did not improve from 0.79839\n",
            "17281/17281 [==============================] - 57s 3ms/step - loss: 0.4835 - accuracy: 0.8216 - val_loss: 0.5429 - val_accuracy: 0.7982 - lr: 1.0000e-06\n",
            "Epoch 26: early stopping\n"
          ]
        }
      ],
      "source": [
        "from keras.callbacks import ModelCheckpoint, EarlyStopping, ReduceLROnPlateau\n",
        "\n",
        "file_path = MODEL_PATH.format(\"MLP_task2.h5\")\n",
        "callbacks = [\n",
        "             ModelCheckpoint(file_path, monitor='val_accuracy', verbose=1, save_best_only=True, mode='max'),\n",
        "             ReduceLROnPlateau(monitor=\"val_accuracy\", mode=\"max\", patience=3, verbose=2),\n",
        "             EarlyStopping(monitor=\"val_accuracy\", mode=\"max\", patience=5, verbose=1)\n",
        "             ]\n",
        "if is_train_enabled:\n",
        "  history = model.fit(X_train_se, y_train, epochs=100, verbose=1, callbacks=callbacks, validation_data=(X_dev_se, y_dev), batch_size=128)"
      ]
    },
    {
      "cell_type": "code",
      "execution_count": null,
      "metadata": {
        "id": "2l0GSMN3JhMa"
      },
      "outputs": [],
      "source": [
        "# load the model from the corresposning h5 file\n",
        "model.load_weights(MODEL_PATH.format(\"MLP_task2.h5\"))"
      ]
    },
    {
      "cell_type": "code",
      "execution_count": null,
      "metadata": {
        "id": "ooAImx96I99g",
        "colab": {
          "base_uri": "https://localhost:8080/"
        },
        "outputId": "689e0c30-f2a2-4f4f-a2cf-fed2da4ebdcc"
      },
      "outputs": [
        {
          "output_type": "stream",
          "name": "stdout",
          "text": [
            "Test f1 score : 0.7221399827504263 \n",
            "Test f1 weighted score : 0.7977861854893762 \n",
            "Test accuracy score : 0.8013426914861154 \n"
          ]
        }
      ],
      "source": [
        "from sklearn.metrics import f1_score, accuracy_score\n",
        "\n",
        "y_pred = np.argmax(model.predict(X_test_se), axis=-1)\n",
        "\n",
        "f1 = f1_score(y_test, y_pred, average=\"macro\")\n",
        "\n",
        "print(\"Test f1 score : %s \"% f1)\n",
        "\n",
        "f1_w = f1_score(y_test, y_pred, average=\"weighted\")\n",
        "\n",
        "print(\"Test f1 weighted score : %s \"% f1_w)\n",
        "\n",
        "acc = accuracy_score(y_test, y_pred)\n",
        "\n",
        "print(\"Test accuracy score : %s \"% acc)"
      ]
    },
    {
      "cell_type": "code",
      "execution_count": null,
      "metadata": {
        "id": "cnR6P5VyJl01",
        "colab": {
          "base_uri": "https://localhost:8080/",
          "height": 295
        },
        "outputId": "3cf8ab2a-8b8a-47e5-d0bf-8c7e090b2064"
      },
      "outputs": [
        {
          "output_type": "display_data",
          "data": {
            "text/plain": [
              "<Figure size 432x288 with 1 Axes>"
            ],
            "image/png": "[encoded data removed]"
          },
          "metadata": {}
        }
      ],
      "source": [
        "if is_train_enabled:\n",
        "  # Plot training & validation loss values\n",
        "  plt.plot(history.history['loss'])\n",
        "  plt.plot(history.history['val_loss'])\n",
        "  plt.title('Model loss')\n",
        "  plt.ylabel('loss')\n",
        "  plt.xlabel('Epoch')\n",
        "  plt.legend(['Train', 'Validation'], loc='upper left')\n",
        "  plt.show()"
      ]
    },
    {
      "cell_type": "code",
      "execution_count": null,
      "metadata": {
        "id": "6VEgJrqJJoUD",
        "colab": {
          "base_uri": "https://localhost:8080/",
          "height": 295
        },
        "outputId": "529b68a1-2c68-4f1c-a2da-d3bfa3d71455"
      },
      "outputs": [
        {
          "output_type": "display_data",
          "data": {
            "text/plain": [
              "<Figure size 432x288 with 1 Axes>"
            ],
            "image/png": "[encoded data removed]"
          },
          "metadata": {}
        }
      ],
      "source": [
        "if is_train_enabled:\n",
        "  # Plot training & validation accuracy values\n",
        "  plt.plot(history.history['accuracy'])\n",
        "  plt.plot(history.history['val_accuracy'])\n",
        "  plt.title('Model accuracy')\n",
        "  plt.ylabel('Accuracy')\n",
        "  plt.xlabel('Epoch')\n",
        "  plt.legend(['Train', 'Validation'], loc='upper left')\n",
        "  plt.show()"
      ]
    },
    {
      "cell_type": "code",
      "execution_count": null,
      "metadata": {
        "id": "EJj4H6B_JqeC",
        "colab": {
          "base_uri": "https://localhost:8080/",
          "height": 279
        },
        "outputId": "84318613-51e5-4e8f-b37c-b516b0096665"
      },
      "outputs": [
        {
          "output_type": "display_data",
          "data": {
            "text/plain": [
              "<Figure size 432x288 with 2 Axes>"
            ],
            "image/png": "[encoded data removed]"
          },
          "metadata": {}
        }
      ],
      "source": [
        "from sklearn.metrics import ConfusionMatrixDisplay, confusion_matrix\n",
        "import matplotlib.pyplot as plt\n",
        "\n",
        "# Plotting confusion matrix\n",
        "cm = confusion_matrix(y_test, y_pred)\n",
        "\n",
        "disp = ConfusionMatrixDisplay(confusion_matrix=cm, display_labels=[0,1,2,3])\n",
        "\n",
        "disp.plot(cmap=plt.cm.Blues)\n",
        "plt.show()"
      ]
    }
  ],
  "metadata": {
    "colab": {
      "collapsed_sections": [
        "SJaSyG74i-1D",
        "ndmrYUaQdZPh"
      ],
      "machine_shape": "hm",
      "name": "mlhc_project_2_task2.ipynb",
      "provenance": []
    },
    "kernelspec": {
      "display_name": "Python 3",
      "name": "python3"
    },
    "language_info": {
      "name": "python"
    },
    "accelerator": "GPU"
  },
  "nbformat": 4,
  "nbformat_minor": 0
}