{
  "nbformat": 4,
  "nbformat_minor": 0,
  "metadata": {
    "colab": {
      "name": "mlhc_project_2_task2.ipynb",
      "provenance": [],
      "machine_shape": "hm",
      "collapsed_sections": [
        "9er1dQ9kk1sF"
      ]
    },
    "kernelspec": {
      "name": "python3",
      "display_name": "Python 3"
    },
    "language_info": {
      "name": "python"
    },
    "accelerator": "GPU"
  },
  "cells": [
    {
      "cell_type": "markdown",
      "source": [
        "# Setup"
      ],
      "metadata": {
        "id": "gK2pgpF7F17L"
      }
    },
    {
      "cell_type": "code",
      "execution_count": null,
      "metadata": {
        "colab": {
          "base_uri": "https://localhost:8080/"
        },
        "id": "7_T5GfJdFdZA",
        "outputId": "f768eb79-9880-4467-9a86-dcfcdef3f6ac"
      },
      "outputs": [
        {
          "output_type": "stream",
          "name": "stdout",
          "text": [
            "Requirement already satisfied: gensim in /usr/local/lib/python3.7/dist-packages (3.6.0)\n",
            "Requirement already satisfied: six>=1.5.0 in /usr/local/lib/python3.7/dist-packages (from gensim) (1.15.0)\n",
            "Requirement already satisfied: scipy>=0.18.1 in /usr/local/lib/python3.7/dist-packages (from gensim) (1.4.1)\n",
            "Requirement already satisfied: smart-open>=1.2.1 in /usr/local/lib/python3.7/dist-packages (from gensim) (5.2.1)\n",
            "Requirement already satisfied: numpy>=1.11.3 in /usr/local/lib/python3.7/dist-packages (from gensim) (1.21.5)\n",
            "Requirement already satisfied: seaborn in /usr/local/lib/python3.7/dist-packages (0.11.2)\n",
            "Requirement already satisfied: numpy>=1.15 in /usr/local/lib/python3.7/dist-packages (from seaborn) (1.21.5)\n",
            "Requirement already satisfied: scipy>=1.0 in /usr/local/lib/python3.7/dist-packages (from seaborn) (1.4.1)\n",
            "Requirement already satisfied: matplotlib>=2.2 in /usr/local/lib/python3.7/dist-packages (from seaborn) (3.2.2)\n",
            "Requirement already satisfied: pandas>=0.23 in /usr/local/lib/python3.7/dist-packages (from seaborn) (1.3.5)\n",
            "Requirement already satisfied: kiwisolver>=1.0.1 in /usr/local/lib/python3.7/dist-packages (from matplotlib>=2.2->seaborn) (1.4.0)\n",
            "Requirement already satisfied: python-dateutil>=2.1 in /usr/local/lib/python3.7/dist-packages (from matplotlib>=2.2->seaborn) (2.8.2)\n",
            "Requirement already satisfied: pyparsing!=2.0.4,!=2.1.2,!=2.1.6,>=2.0.1 in /usr/local/lib/python3.7/dist-packages (from matplotlib>=2.2->seaborn) (3.0.7)\n",
            "Requirement already satisfied: cycler>=0.10 in /usr/local/lib/python3.7/dist-packages (from matplotlib>=2.2->seaborn) (0.11.0)\n",
            "Requirement already satisfied: typing-extensions in /usr/local/lib/python3.7/dist-packages (from kiwisolver>=1.0.1->matplotlib>=2.2->seaborn) (3.10.0.2)\n",
            "Requirement already satisfied: pytz>=2017.3 in /usr/local/lib/python3.7/dist-packages (from pandas>=0.23->seaborn) (2018.9)\n",
            "Requirement already satisfied: six>=1.5 in /usr/local/lib/python3.7/dist-packages (from python-dateutil>=2.1->matplotlib>=2.2->seaborn) (1.15.0)\n",
            "Requirement already satisfied: nltk in /usr/local/lib/python3.7/dist-packages (3.2.5)\n",
            "Requirement already satisfied: six in /usr/local/lib/python3.7/dist-packages (from nltk) (1.15.0)\n",
            "Requirement already satisfied: tensorflow in /usr/local/lib/python3.7/dist-packages (2.8.0)\n",
            "Requirement already satisfied: tensorboard<2.9,>=2.8 in /usr/local/lib/python3.7/dist-packages (from tensorflow) (2.8.0)\n",
            "Requirement already satisfied: protobuf>=3.9.2 in /usr/local/lib/python3.7/dist-packages (from tensorflow) (3.17.3)\n",
            "Requirement already satisfied: google-pasta>=0.1.1 in /usr/local/lib/python3.7/dist-packages (from tensorflow) (0.2.0)\n",
            "Requirement already satisfied: numpy>=1.20 in /usr/local/lib/python3.7/dist-packages (from tensorflow) (1.21.5)\n",
            "Requirement already satisfied: setuptools in /usr/local/lib/python3.7/dist-packages (from tensorflow) (57.4.0)\n",
            "Requirement already satisfied: six>=1.12.0 in /usr/local/lib/python3.7/dist-packages (from tensorflow) (1.15.0)\n",
            "Requirement already satisfied: typing-extensions>=3.6.6 in /usr/local/lib/python3.7/dist-packages (from tensorflow) (3.10.0.2)\n",
            "Requirement already satisfied: opt-einsum>=2.3.2 in /usr/local/lib/python3.7/dist-packages (from tensorflow) (3.3.0)\n",
            "Requirement already satisfied: keras-preprocessing>=1.1.1 in /usr/local/lib/python3.7/dist-packages (from tensorflow) (1.1.2)\n",
            "Requirement already satisfied: tensorflow-io-gcs-filesystem>=0.23.1 in /usr/local/lib/python3.7/dist-packages (from tensorflow) (0.24.0)\n",
            "Requirement already satisfied: keras<2.9,>=2.8.0rc0 in /usr/local/lib/python3.7/dist-packages (from tensorflow) (2.8.0)\n",
            "Requirement already satisfied: h5py>=2.9.0 in /usr/local/lib/python3.7/dist-packages (from tensorflow) (3.1.0)\n",
            "Requirement already satisfied: tf-estimator-nightly==2.8.0.dev2021122109 in /usr/local/lib/python3.7/dist-packages (from tensorflow) (2.8.0.dev2021122109)\n",
            "Requirement already satisfied: gast>=0.2.1 in /usr/local/lib/python3.7/dist-packages (from tensorflow) (0.5.3)\n",
            "Requirement already satisfied: grpcio<2.0,>=1.24.3 in /usr/local/lib/python3.7/dist-packages (from tensorflow) (1.44.0)\n",
            "Requirement already satisfied: wrapt>=1.11.0 in /usr/local/lib/python3.7/dist-packages (from tensorflow) (1.14.0)\n",
            "Requirement already satisfied: libclang>=9.0.1 in /usr/local/lib/python3.7/dist-packages (from tensorflow) (13.0.0)\n",
            "Requirement already satisfied: astunparse>=1.6.0 in /usr/local/lib/python3.7/dist-packages (from tensorflow) (1.6.3)\n",
            "Requirement already satisfied: termcolor>=1.1.0 in /usr/local/lib/python3.7/dist-packages (from tensorflow) (1.1.0)\n",
            "Requirement already satisfied: flatbuffers>=1.12 in /usr/local/lib/python3.7/dist-packages (from tensorflow) (2.0)\n",
            "Requirement already satisfied: absl-py>=0.4.0 in /usr/local/lib/python3.7/dist-packages (from tensorflow) (1.0.0)\n",
            "Requirement already satisfied: wheel<1.0,>=0.23.0 in /usr/local/lib/python3.7/dist-packages (from astunparse>=1.6.0->tensorflow) (0.37.1)\n",
            "Requirement already satisfied: cached-property in /usr/local/lib/python3.7/dist-packages (from h5py>=2.9.0->tensorflow) (1.5.2)\n",
            "Requirement already satisfied: google-auth-oauthlib<0.5,>=0.4.1 in /usr/local/lib/python3.7/dist-packages (from tensorboard<2.9,>=2.8->tensorflow) (0.4.6)\n",
            "Requirement already satisfied: werkzeug>=0.11.15 in /usr/local/lib/python3.7/dist-packages (from tensorboard<2.9,>=2.8->tensorflow) (1.0.1)\n",
            "Requirement already satisfied: google-auth<3,>=1.6.3 in /usr/local/lib/python3.7/dist-packages (from tensorboard<2.9,>=2.8->tensorflow) (1.35.0)\n",
            "Requirement already satisfied: markdown>=2.6.8 in /usr/local/lib/python3.7/dist-packages (from tensorboard<2.9,>=2.8->tensorflow) (3.3.6)\n",
            "Requirement already satisfied: requests<3,>=2.21.0 in /usr/local/lib/python3.7/dist-packages (from tensorboard<2.9,>=2.8->tensorflow) (2.23.0)\n",
            "Requirement already satisfied: tensorboard-plugin-wit>=1.6.0 in /usr/local/lib/python3.7/dist-packages (from tensorboard<2.9,>=2.8->tensorflow) (1.8.1)\n",
            "Requirement already satisfied: tensorboard-data-server<0.7.0,>=0.6.0 in /usr/local/lib/python3.7/dist-packages (from tensorboard<2.9,>=2.8->tensorflow) (0.6.1)\n",
            "Requirement already satisfied: pyasn1-modules>=0.2.1 in /usr/local/lib/python3.7/dist-packages (from google-auth<3,>=1.6.3->tensorboard<2.9,>=2.8->tensorflow) (0.2.8)\n",
            "Requirement already satisfied: cachetools<5.0,>=2.0.0 in /usr/local/lib/python3.7/dist-packages (from google-auth<3,>=1.6.3->tensorboard<2.9,>=2.8->tensorflow) (4.2.4)\n",
            "Requirement already satisfied: rsa<5,>=3.1.4 in /usr/local/lib/python3.7/dist-packages (from google-auth<3,>=1.6.3->tensorboard<2.9,>=2.8->tensorflow) (4.8)\n",
            "Requirement already satisfied: requests-oauthlib>=0.7.0 in /usr/local/lib/python3.7/dist-packages (from google-auth-oauthlib<0.5,>=0.4.1->tensorboard<2.9,>=2.8->tensorflow) (1.3.1)\n",
            "Requirement already satisfied: importlib-metadata>=4.4 in /usr/local/lib/python3.7/dist-packages (from markdown>=2.6.8->tensorboard<2.9,>=2.8->tensorflow) (4.11.3)\n",
            "Requirement already satisfied: zipp>=0.5 in /usr/local/lib/python3.7/dist-packages (from importlib-metadata>=4.4->markdown>=2.6.8->tensorboard<2.9,>=2.8->tensorflow) (3.7.0)\n",
            "Requirement already satisfied: pyasn1<0.5.0,>=0.4.6 in /usr/local/lib/python3.7/dist-packages (from pyasn1-modules>=0.2.1->google-auth<3,>=1.6.3->tensorboard<2.9,>=2.8->tensorflow) (0.4.8)\n",
            "Requirement already satisfied: chardet<4,>=3.0.2 in /usr/local/lib/python3.7/dist-packages (from requests<3,>=2.21.0->tensorboard<2.9,>=2.8->tensorflow) (3.0.4)\n",
            "Requirement already satisfied: idna<3,>=2.5 in /usr/local/lib/python3.7/dist-packages (from requests<3,>=2.21.0->tensorboard<2.9,>=2.8->tensorflow) (2.10)\n",
            "Requirement already satisfied: urllib3!=1.25.0,!=1.25.1,<1.26,>=1.21.1 in /usr/local/lib/python3.7/dist-packages (from requests<3,>=2.21.0->tensorboard<2.9,>=2.8->tensorflow) (1.24.3)\n",
            "Requirement already satisfied: certifi>=2017.4.17 in /usr/local/lib/python3.7/dist-packages (from requests<3,>=2.21.0->tensorboard<2.9,>=2.8->tensorflow) (2021.10.8)\n",
            "Requirement already satisfied: oauthlib>=3.0.0 in /usr/local/lib/python3.7/dist-packages (from requests-oauthlib>=0.7.0->google-auth-oauthlib<0.5,>=0.4.1->tensorboard<2.9,>=2.8->tensorflow) (3.2.0)\n"
          ]
        }
      ],
      "source": [
        "!pip install gensim\n",
        "!pip install seaborn\n",
        "!pip install nltk\n",
        "!pip install tensorflow"
      ]
    },
    {
      "cell_type": "code",
      "source": [
        "import pandas as pd\n",
        "import numpy as np\n",
        "import sklearn\n",
        "\n",
        "import gensim\n",
        "import nltk\n",
        "\n",
        "nltk.download('stopwords')\n",
        "nltk.download('wordnet')"
      ],
      "metadata": {
        "colab": {
          "base_uri": "https://localhost:8080/"
        },
        "id": "Ge1_O173Fhj2",
        "outputId": "f9257695-4df4-41d4-e8ab-c091af76552c"
      },
      "execution_count": null,
      "outputs": [
        {
          "output_type": "stream",
          "name": "stdout",
          "text": [
            "[nltk_data] Downloading package stopwords to /root/nltk_data...\n",
            "[nltk_data]   Package stopwords is already up-to-date!\n",
            "[nltk_data] Downloading package wordnet to /root/nltk_data...\n",
            "[nltk_data]   Package wordnet is already up-to-date!\n"
          ]
        },
        {
          "output_type": "execute_result",
          "data": {
            "text/plain": [
              "True"
            ]
          },
          "metadata": {},
          "execution_count": 29
        }
      ]
    },
    {
      "cell_type": "code",
      "source": [
        "from google.colab import drive\n",
        "drive.mount('/content/drive')"
      ],
      "metadata": {
        "colab": {
          "base_uri": "https://localhost:8080/"
        },
        "id": "FIlmBoODFjRc",
        "outputId": "c52fb10a-8bf1-4b71-d0ea-1a4fe75d1254"
      },
      "execution_count": null,
      "outputs": [
        {
          "output_type": "stream",
          "name": "stdout",
          "text": [
            "Drive already mounted at /content/drive; to attempt to forcibly remount, call drive.mount(\"/content/drive\", force_remount=True).\n"
          ]
        }
      ]
    },
    {
      "cell_type": "code",
      "source": [
        "# constants and global variables\n",
        "DATA_PATH = '/content/drive/MyDrive/Colab Notebooks/MLHC/Project2/Dataset/{}'\n",
        "MODEL_PATH = '/content/drive/MyDrive/Colab Notebooks/MLHC/Project2/Models/{}'\n",
        "\n",
        "is_preprocess_enabled =  False\n",
        "is_w2v_train_enabled =  False\n",
        "is_train_enabled = False"
      ],
      "metadata": {
        "id": "gElVKN5gFlWx"
      },
      "execution_count": null,
      "outputs": []
    },
    {
      "cell_type": "markdown",
      "source": [
        "# Utils"
      ],
      "metadata": {
        "id": "SJaSyG74i-1D"
      }
    },
    {
      "cell_type": "code",
      "source": [
        "def save_data_to_file(file_name, data):\n",
        "  with open(DATA_PATH.format(file_name), 'w') as f:\n",
        "      for item in data:\n",
        "          f.write(\"{}\\n\".format(item))\n",
        "\n",
        "import json \n",
        "def read_data(file_name):\n",
        "  return pd.read_csv(DATA_PATH.format(file_name), header=None).values.tolist()"
      ],
      "metadata": {
        "id": "7QocZ-7Ui96l"
      },
      "execution_count": null,
      "outputs": []
    },
    {
      "cell_type": "markdown",
      "source": [
        "# Preprocess of Data"
      ],
      "metadata": {
        "id": "uMG1vwqpGGEA"
      }
    },
    {
      "cell_type": "code",
      "source": [
        "# clean the dataset, stop word removal, tokenizer etc..\n",
        "if is_preprocess_enabled:\n",
        "\n",
        "  # read the dataset\n",
        "  train = open(DATA_PATH.format(\"train.txt\"), \"r\").readlines()\n",
        "  test = open(DATA_PATH.format(\"test.txt\"), \"r\").readlines()\n",
        "  dev = open(DATA_PATH.format(\"dev.txt\"), \"r\").readlines()\n",
        "\n",
        "  # tmp = (list(filter(lambda sentence: len(sentence) < 2, test)))\n",
        "  # print(tmp)\n",
        "  # print(len(tmp))\n",
        "  \n",
        "  # Removing ID and empty lines\n",
        "  train = list(filter(lambda x: not x.startswith(('###', '\\n')), train))\n",
        "  test = list(filter(lambda x: not x.startswith(('###', '\\n')), test))\n",
        "  dev = list(filter(lambda x: not x.startswith(('###', '\\n')), dev))\n",
        "\n",
        "  # Building list of lists (and separating first word)\n",
        "  train = list(map(lambda x: x.split('\\t', 1), train))\n",
        "  test = list(map(lambda x: x.split('\\t', 1), test))\n",
        "  dev = list(map(lambda x: x.split('\\t', 1), dev))\n",
        "\n",
        "  # Lowercasing sentence\n",
        "  train = list(map(lambda x:[x[0], x[1].lower()], train))\n",
        "  test = list(map(lambda x:[x[0], x[1].lower()], test))\n",
        "  dev = list(map(lambda x:[x[0], x[1].lower()], dev))\n",
        "\n",
        "  # tmp = list(map(lambda x:x[1], test))\n",
        "  # tmp = (list(filter(lambda sentence: len(sentence) < 2, tmp)))\n",
        "  # print(tmp)\n",
        "  # print(len(tmp))\n",
        "\n",
        "  from nltk.tokenize import RegexpTokenizer\n",
        "  # Tokenizing sentence\n",
        "  tokenizer = RegexpTokenizer(r'\\w+')\n",
        "  train = list(map(lambda x:[x[0], tokenizer.tokenize(x[1])], train))\n",
        "  test = list(map(lambda x:[x[0], tokenizer.tokenize(x[1])], test))\n",
        "  dev = list(map(lambda x:[x[0], tokenizer.tokenize(x[1])], dev))\n",
        "\n",
        "  from nltk.corpus import stopwords\n",
        "  # Removing stopwords\n",
        "  stopwords_set = stopwords.words('english')\n",
        "  train = list(map(lambda x:[x[0], [w for w in x[1] if not w in stopwords_set]], train))\n",
        "  test = list(map(lambda x:[x[0], [w for w in x[1] if not w in stopwords_set]], test))\n",
        "  dev = list(map(lambda x:[x[0], [w for w in x[1] if not w in stopwords_set]], dev))\n",
        "\n",
        "  from nltk.stem import WordNetLemmatizer\n",
        "  # Lemmatizing\n",
        "  lemmatizer = WordNetLemmatizer()\n",
        "  train = list(map(lambda x:[x[0], [lemmatizer.lemmatize(w) for w in x[1]]], train))\n",
        "  test = list(map(lambda x:[x[0], [lemmatizer.lemmatize(w) for w in x[1]]], test))\n",
        "  dev = list(map(lambda x:[x[0], [lemmatizer.lemmatize(w) for w in x[1]]], dev))\n",
        "\n",
        "  for i in range(20):\n",
        "    print(test[i])"
      ],
      "metadata": {
        "id": "mRYpkD8kGCMI"
      },
      "execution_count": null,
      "outputs": []
    },
    {
      "cell_type": "code",
      "source": [
        "if is_preprocess_enabled:\n",
        "  \n",
        "  # devide labels from data\n",
        "  y_train = list(map(lambda x:x[0], train))\n",
        "  train = list(map(lambda x:x[1], train))\n",
        "\n",
        "  y_test = list(map(lambda x:x[0], test))\n",
        "  test = list(map(lambda x:x[1], test))\n",
        "\n",
        "  y_dev = list(map(lambda x:x[0], dev))\n",
        "  dev = list(map(lambda x:x[1], dev))\n",
        "\n",
        "  for i in range(5):\n",
        "    print(test[i])\n",
        "    print(y_test[i])\n",
        "    \n",
        "  # save the labels data to a file\n",
        "  save_data_to_file(\"y_train.txt\", y_train)\n",
        "  save_data_to_file(\"y_test.txt\", y_test)\n",
        "  save_data_to_file(\"y_dev.txt\", y_dev)"
      ],
      "metadata": {
        "id": "cJvNMIcfgyoD"
      },
      "execution_count": null,
      "outputs": []
    },
    {
      "cell_type": "code",
      "source": [
        "# detect bigrams\n",
        "from gensim.models.phrases import Phrases, Phraser\n",
        "from collections import defaultdict\n",
        "\n",
        "def bigram(words):\n",
        "  phrases = Phrases(words, min_count=5)\n",
        "  bigram = Phraser(phrases) \n",
        "  sentences = bigram[words]\n",
        "\n",
        "  word_freq = defaultdict(int)\n",
        "  for sent in sentences:\n",
        "      for i in sent:\n",
        "          word_freq[i] += 1\n",
        "  print(len(word_freq))\n",
        "\n",
        "  print(sorted(word_freq, key=word_freq.get, reverse=True)[:10])\n",
        "\n",
        "  return sentences\n",
        "  \n",
        "\n",
        "if is_preprocess_enabled:\n",
        "\n",
        "    bigram_train = list(bigram(train))\n",
        "    bigram_test = list(bigram(test))\n",
        "    bigram_dev = list(bigram(dev))\n",
        "\n",
        "    save_data_to_file(\"X_train.txt\", bigram_train)\n",
        "    save_data_to_file(\"X_test.txt\", bigram_test)\n",
        "    save_data_to_file(\"X_dev.txt\", bigram_dev)\n"
      ],
      "metadata": {
        "id": "pZ_uGT20g5CI"
      },
      "execution_count": null,
      "outputs": []
    },
    {
      "cell_type": "markdown",
      "source": [
        "# Read Data"
      ],
      "metadata": {
        "id": "bq4x1khoGNIg"
      }
    },
    {
      "cell_type": "code",
      "source": [
        "import ast\n",
        "\n",
        "# read the processed data from the repsective files\n",
        "X_train = open(DATA_PATH.format(\"X_train.txt\"), \"r\").readlines()\n",
        "X_train = list(map(lambda x : ast.literal_eval(x), X_train))\n",
        "\n",
        "X_test = open(DATA_PATH.format(\"X_test.txt\"), \"r\").readlines()\n",
        "X_test = list(map(lambda x : ast.literal_eval(x), X_test))\n",
        "\n",
        "X_dev = open(DATA_PATH.format(\"X_dev.txt\"), \"r\").readlines()\n",
        "X_dev = list(map(lambda x : ast.literal_eval(x), X_dev))\n",
        "\n",
        "# read the labels from the repsective files\n",
        "y_train = open(DATA_PATH.format(\"y_train.txt\"), \"r\").readlines()\n",
        "y_test = open(DATA_PATH.format(\"y_test.txt\"), \"r\").readlines()\n",
        "y_dev = open(DATA_PATH.format(\"y_dev.txt\"), \"r\").readlines()\n",
        "\n",
        "for i in range(0, 5):\n",
        "  print(X_test[i])\n",
        "  print(y_test[i])"
      ],
      "metadata": {
        "colab": {
          "base_uri": "https://localhost:8080/",
          "height": 375
        },
        "id": "JwT86K4Kg-EE",
        "outputId": "8d3ecc7f-21e3-4376-90c3-098f4999c5fa"
      },
      "execution_count": null,
      "outputs": [
        {
          "output_type": "error",
          "ename": "KeyboardInterrupt",
          "evalue": "ignored",
          "traceback": [
            "\u001b[0;31m---------------------------------------------------------------------------\u001b[0m",
            "\u001b[0;31mKeyboardInterrupt\u001b[0m                         Traceback (most recent call last)",
            "\u001b[0;32m<ipython-input-36-68488bdd5c6e>\u001b[0m in \u001b[0;36m<module>\u001b[0;34m()\u001b[0m\n\u001b[1;32m      3\u001b[0m \u001b[0;31m# read the processed data from the repsective files\u001b[0m\u001b[0;34m\u001b[0m\u001b[0;34m\u001b[0m\u001b[0;34m\u001b[0m\u001b[0m\n\u001b[1;32m      4\u001b[0m \u001b[0mX_train\u001b[0m \u001b[0;34m=\u001b[0m \u001b[0mopen\u001b[0m\u001b[0;34m(\u001b[0m\u001b[0mDATA_PATH\u001b[0m\u001b[0;34m.\u001b[0m\u001b[0mformat\u001b[0m\u001b[0;34m(\u001b[0m\u001b[0;34m\"X_train.txt\"\u001b[0m\u001b[0;34m)\u001b[0m\u001b[0;34m,\u001b[0m \u001b[0;34m\"r\"\u001b[0m\u001b[0;34m)\u001b[0m\u001b[0;34m.\u001b[0m\u001b[0mreadlines\u001b[0m\u001b[0;34m(\u001b[0m\u001b[0;34m)\u001b[0m\u001b[0;34m\u001b[0m\u001b[0;34m\u001b[0m\u001b[0m\n\u001b[0;32m----> 5\u001b[0;31m \u001b[0mX_train\u001b[0m \u001b[0;34m=\u001b[0m \u001b[0mlist\u001b[0m\u001b[0;34m(\u001b[0m\u001b[0mmap\u001b[0m\u001b[0;34m(\u001b[0m\u001b[0;32mlambda\u001b[0m \u001b[0mx\u001b[0m \u001b[0;34m:\u001b[0m \u001b[0mast\u001b[0m\u001b[0;34m.\u001b[0m\u001b[0mliteral_eval\u001b[0m\u001b[0;34m(\u001b[0m\u001b[0mx\u001b[0m\u001b[0;34m)\u001b[0m\u001b[0;34m,\u001b[0m \u001b[0mX_train\u001b[0m\u001b[0;34m)\u001b[0m\u001b[0;34m)\u001b[0m\u001b[0;34m\u001b[0m\u001b[0;34m\u001b[0m\u001b[0m\n\u001b[0m\u001b[1;32m      6\u001b[0m \u001b[0;34m\u001b[0m\u001b[0m\n\u001b[1;32m      7\u001b[0m \u001b[0mX_test\u001b[0m \u001b[0;34m=\u001b[0m \u001b[0mopen\u001b[0m\u001b[0;34m(\u001b[0m\u001b[0mDATA_PATH\u001b[0m\u001b[0;34m.\u001b[0m\u001b[0mformat\u001b[0m\u001b[0;34m(\u001b[0m\u001b[0;34m\"X_test.txt\"\u001b[0m\u001b[0;34m)\u001b[0m\u001b[0;34m,\u001b[0m \u001b[0;34m\"r\"\u001b[0m\u001b[0;34m)\u001b[0m\u001b[0;34m.\u001b[0m\u001b[0mreadlines\u001b[0m\u001b[0;34m(\u001b[0m\u001b[0;34m)\u001b[0m\u001b[0;34m\u001b[0m\u001b[0;34m\u001b[0m\u001b[0m\n",
            "\u001b[0;32m<ipython-input-36-68488bdd5c6e>\u001b[0m in \u001b[0;36m<lambda>\u001b[0;34m(x)\u001b[0m\n\u001b[1;32m      3\u001b[0m \u001b[0;31m# read the processed data from the repsective files\u001b[0m\u001b[0;34m\u001b[0m\u001b[0;34m\u001b[0m\u001b[0;34m\u001b[0m\u001b[0m\n\u001b[1;32m      4\u001b[0m \u001b[0mX_train\u001b[0m \u001b[0;34m=\u001b[0m \u001b[0mopen\u001b[0m\u001b[0;34m(\u001b[0m\u001b[0mDATA_PATH\u001b[0m\u001b[0;34m.\u001b[0m\u001b[0mformat\u001b[0m\u001b[0;34m(\u001b[0m\u001b[0;34m\"X_train.txt\"\u001b[0m\u001b[0;34m)\u001b[0m\u001b[0;34m,\u001b[0m \u001b[0;34m\"r\"\u001b[0m\u001b[0;34m)\u001b[0m\u001b[0;34m.\u001b[0m\u001b[0mreadlines\u001b[0m\u001b[0;34m(\u001b[0m\u001b[0;34m)\u001b[0m\u001b[0;34m\u001b[0m\u001b[0;34m\u001b[0m\u001b[0m\n\u001b[0;32m----> 5\u001b[0;31m \u001b[0mX_train\u001b[0m \u001b[0;34m=\u001b[0m \u001b[0mlist\u001b[0m\u001b[0;34m(\u001b[0m\u001b[0mmap\u001b[0m\u001b[0;34m(\u001b[0m\u001b[0;32mlambda\u001b[0m \u001b[0mx\u001b[0m \u001b[0;34m:\u001b[0m \u001b[0mast\u001b[0m\u001b[0;34m.\u001b[0m\u001b[0mliteral_eval\u001b[0m\u001b[0;34m(\u001b[0m\u001b[0mx\u001b[0m\u001b[0;34m)\u001b[0m\u001b[0;34m,\u001b[0m \u001b[0mX_train\u001b[0m\u001b[0;34m)\u001b[0m\u001b[0;34m)\u001b[0m\u001b[0;34m\u001b[0m\u001b[0;34m\u001b[0m\u001b[0m\n\u001b[0m\u001b[1;32m      6\u001b[0m \u001b[0;34m\u001b[0m\u001b[0m\n\u001b[1;32m      7\u001b[0m \u001b[0mX_test\u001b[0m \u001b[0;34m=\u001b[0m \u001b[0mopen\u001b[0m\u001b[0;34m(\u001b[0m\u001b[0mDATA_PATH\u001b[0m\u001b[0;34m.\u001b[0m\u001b[0mformat\u001b[0m\u001b[0;34m(\u001b[0m\u001b[0;34m\"X_test.txt\"\u001b[0m\u001b[0;34m)\u001b[0m\u001b[0;34m,\u001b[0m \u001b[0;34m\"r\"\u001b[0m\u001b[0;34m)\u001b[0m\u001b[0;34m.\u001b[0m\u001b[0mreadlines\u001b[0m\u001b[0;34m(\u001b[0m\u001b[0;34m)\u001b[0m\u001b[0;34m\u001b[0m\u001b[0;34m\u001b[0m\u001b[0m\n",
            "\u001b[0;32m/usr/lib/python3.7/ast.py\u001b[0m in \u001b[0;36mliteral_eval\u001b[0;34m(node_or_string)\u001b[0m\n\u001b[1;32m     44\u001b[0m     \"\"\"\n\u001b[1;32m     45\u001b[0m     \u001b[0;32mif\u001b[0m \u001b[0misinstance\u001b[0m\u001b[0;34m(\u001b[0m\u001b[0mnode_or_string\u001b[0m\u001b[0;34m,\u001b[0m \u001b[0mstr\u001b[0m\u001b[0;34m)\u001b[0m\u001b[0;34m:\u001b[0m\u001b[0;34m\u001b[0m\u001b[0;34m\u001b[0m\u001b[0m\n\u001b[0;32m---> 46\u001b[0;31m         \u001b[0mnode_or_string\u001b[0m \u001b[0;34m=\u001b[0m \u001b[0mparse\u001b[0m\u001b[0;34m(\u001b[0m\u001b[0mnode_or_string\u001b[0m\u001b[0;34m,\u001b[0m \u001b[0mmode\u001b[0m\u001b[0;34m=\u001b[0m\u001b[0;34m'eval'\u001b[0m\u001b[0;34m)\u001b[0m\u001b[0;34m\u001b[0m\u001b[0;34m\u001b[0m\u001b[0m\n\u001b[0m\u001b[1;32m     47\u001b[0m     \u001b[0;32mif\u001b[0m \u001b[0misinstance\u001b[0m\u001b[0;34m(\u001b[0m\u001b[0mnode_or_string\u001b[0m\u001b[0;34m,\u001b[0m \u001b[0mExpression\u001b[0m\u001b[0;34m)\u001b[0m\u001b[0;34m:\u001b[0m\u001b[0;34m\u001b[0m\u001b[0;34m\u001b[0m\u001b[0m\n\u001b[1;32m     48\u001b[0m         \u001b[0mnode_or_string\u001b[0m \u001b[0;34m=\u001b[0m \u001b[0mnode_or_string\u001b[0m\u001b[0;34m.\u001b[0m\u001b[0mbody\u001b[0m\u001b[0;34m\u001b[0m\u001b[0;34m\u001b[0m\u001b[0m\n",
            "\u001b[0;32m/usr/lib/python3.7/ast.py\u001b[0m in \u001b[0;36mparse\u001b[0;34m(source, filename, mode)\u001b[0m\n\u001b[1;32m     33\u001b[0m     \u001b[0mEquivalent\u001b[0m \u001b[0mto\u001b[0m \u001b[0mcompile\u001b[0m\u001b[0;34m(\u001b[0m\u001b[0msource\u001b[0m\u001b[0;34m,\u001b[0m \u001b[0mfilename\u001b[0m\u001b[0;34m,\u001b[0m \u001b[0mmode\u001b[0m\u001b[0;34m,\u001b[0m \u001b[0mPyCF_ONLY_AST\u001b[0m\u001b[0;34m)\u001b[0m\u001b[0;34m.\u001b[0m\u001b[0;34m\u001b[0m\u001b[0;34m\u001b[0m\u001b[0m\n\u001b[1;32m     34\u001b[0m     \"\"\"\n\u001b[0;32m---> 35\u001b[0;31m     \u001b[0;32mreturn\u001b[0m \u001b[0mcompile\u001b[0m\u001b[0;34m(\u001b[0m\u001b[0msource\u001b[0m\u001b[0;34m,\u001b[0m \u001b[0mfilename\u001b[0m\u001b[0;34m,\u001b[0m \u001b[0mmode\u001b[0m\u001b[0;34m,\u001b[0m \u001b[0mPyCF_ONLY_AST\u001b[0m\u001b[0;34m)\u001b[0m\u001b[0;34m\u001b[0m\u001b[0;34m\u001b[0m\u001b[0m\n\u001b[0m\u001b[1;32m     36\u001b[0m \u001b[0;34m\u001b[0m\u001b[0m\n\u001b[1;32m     37\u001b[0m \u001b[0;34m\u001b[0m\u001b[0m\n",
            "\u001b[0;31mKeyboardInterrupt\u001b[0m: "
          ]
        }
      ]
    },
    {
      "cell_type": "markdown",
      "source": [
        "# W2V Model "
      ],
      "metadata": {
        "id": "x_EfjZK0GSh6"
      }
    },
    {
      "cell_type": "code",
      "source": [
        "from gensim.models import Word2Vec\n",
        "import multiprocessing\n",
        "\n",
        "# Count the number of cores in the computer\n",
        "cores = multiprocessing.cpu_count()\n",
        "print(cores)\n",
        "\n",
        "# define the  W2V model\n",
        "w2v_model = Word2Vec(min_count=10,\n",
        "                     window=2,\n",
        "                     size=300,\n",
        "                     sample=6e-5, \n",
        "                     alpha=0.03, \n",
        "                     min_alpha=0.0007, \n",
        "                     negative=20,\n",
        "                     workers=cores-1)"
      ],
      "metadata": {
        "id": "dl11jTV2GQ1A"
      },
      "execution_count": null,
      "outputs": []
    },
    {
      "cell_type": "code",
      "source": [
        "#  build the vocabulary table\n",
        "if is_w2v_train_enabled:\n",
        "  w2v_model.build_vocab(X_train)"
      ],
      "metadata": {
        "id": "tlAOpLr-GW88"
      },
      "execution_count": null,
      "outputs": []
    },
    {
      "cell_type": "code",
      "source": [
        "if is_w2v_train_enabled:\n",
        "  # train the model\n",
        "  w2v_model.train(X_train, total_examples=w2v_model.corpus_count, epochs=30, report_delay=1)\n",
        "  # since we don't plan to train the model any further, we use this function to make the model more memory efficient\n",
        "  # model.init_sims(replace=True)\n",
        "\n",
        "  # save the model to a file so that it can be reused without being trained from scratch\n",
        "  w2v_model.save(MODEL_PATH.format(\"word2vec.model\"))"
      ],
      "metadata": {
        "id": "vINC9RC6GYYt"
      },
      "execution_count": null,
      "outputs": []
    },
    {
      "cell_type": "code",
      "source": [
        "# load the trained model\n",
        "w2v_model = Word2Vec.load(MODEL_PATH.format(\"word2vec.model\"))"
      ],
      "metadata": {
        "id": "DS514zEhGZ90"
      },
      "execution_count": null,
      "outputs": []
    },
    {
      "cell_type": "markdown",
      "source": [
        "# Data Visualization"
      ],
      "metadata": {
        "id": "7xnDDALKGbkl"
      }
    },
    {
      "cell_type": "code",
      "source": [
        "# check which words are most similar to\n",
        "w2v_model.wv.most_similar(positive=[\"doctor\"])"
      ],
      "metadata": {
        "id": "or5mWFBKGe28"
      },
      "execution_count": null,
      "outputs": []
    },
    {
      "cell_type": "code",
      "source": [
        "# return a number representing how much these two words are similar\n",
        "w2v_model.wv.similarity(\"doctor\", 'physician')"
      ],
      "metadata": {
        "id": "1UWUKW7FGgrm"
      },
      "execution_count": null,
      "outputs": []
    },
    {
      "cell_type": "code",
      "source": [
        "# return the word that is least similar to the others in the list\n",
        "w2v_model.wv.doesnt_match(['doctor', 'disease', 'patient'])"
      ],
      "metadata": {
        "id": "-qwTUXM6GiM0"
      },
      "execution_count": null,
      "outputs": []
    },
    {
      "cell_type": "code",
      "source": [
        "# which word is to doctor as woman is to nurse\n",
        "w2v_model.wv.most_similar(positive=[\"woman\", \"doctor\"], negative=[\"nurse\"], topn=3)"
      ],
      "metadata": {
        "id": "mmuCdJe1Gj2-"
      },
      "execution_count": null,
      "outputs": []
    },
    {
      "cell_type": "code",
      "source": [
        "import matplotlib.pyplot as plt\n",
        "%matplotlib inline\n",
        " \n",
        "import seaborn as sns\n",
        "sns.set_style(\"darkgrid\")\n",
        "\n",
        "from sklearn.decomposition import PCA\n",
        "from sklearn.manifold import TSNE\n",
        "\n",
        "# draw words on a graph. Similar words  are close together in the graph.\n",
        "def tsnescatterplot(model, word, list_names):\n",
        "    \"\"\" Plot in seaborn the results from the t-SNE dimensionality reduction algorithm of the vectors of a query word,\n",
        "    its list of most similar words, and a list of words.\n",
        "    \"\"\"\n",
        "    arrays = np.empty((0, 300), dtype='f')\n",
        "    word_labels = [word]\n",
        "    color_list  = ['red']\n",
        "\n",
        "    # adds the vector of the query word\n",
        "    arrays = np.append(arrays, model.wv.__getitem__([word]), axis=0)\n",
        "    \n",
        "    # gets list of most similar words\n",
        "    close_words = model.wv.most_similar([word])\n",
        "    \n",
        "    # adds the vector for each of the closest words to the array\n",
        "    for wrd_score in close_words:\n",
        "        wrd_vector = model.wv.__getitem__([wrd_score[0]])\n",
        "        word_labels.append(wrd_score[0])\n",
        "        color_list.append('blue')\n",
        "        arrays = np.append(arrays, wrd_vector, axis=0)\n",
        "    \n",
        "    # adds the vector for each of the words from list_names to the array\n",
        "    for wrd in list_names:\n",
        "        wrd_vector = model.wv.__getitem__([wrd])\n",
        "        word_labels.append(wrd)\n",
        "        color_list.append('green')\n",
        "        arrays = np.append(arrays, wrd_vector, axis=0)\n",
        "        \n",
        "    # Reduces the dimensionality from 300 to 50 dimensions with PCA\n",
        "    reduc = PCA(n_components=19).fit_transform(arrays)\n",
        "    \n",
        "    # Finds t-SNE coordinates for 2 dimensions\n",
        "    np.set_printoptions(suppress=True)\n",
        "    \n",
        "    Y = TSNE(n_components=2, random_state=0, perplexity=15).fit_transform(reduc)\n",
        "    \n",
        "    # Sets everything up to plot\n",
        "    df = pd.DataFrame({'x': [x for x in Y[:, 0]],\n",
        "                       'y': [y for y in Y[:, 1]],\n",
        "                       'words': word_labels,\n",
        "                       'color': color_list})\n",
        "    \n",
        "    fig, _ = plt.subplots()\n",
        "    fig.set_size_inches(9, 9)\n",
        "    \n",
        "    # Basic plot\n",
        "    p1 = sns.regplot(data=df,\n",
        "                     x=\"x\",\n",
        "                     y=\"y\",\n",
        "                     fit_reg=False,\n",
        "                     marker=\"o\",\n",
        "                     scatter_kws={'s': 40,\n",
        "                                  'facecolors': df['color']\n",
        "                                 }\n",
        "                    )\n",
        "    \n",
        "    # Adds annotations one by one with a loop\n",
        "    for line in range(0, df.shape[0]):\n",
        "         p1.text(df[\"x\"][line],\n",
        "                 df['y'][line],\n",
        "                 '  ' + df[\"words\"][line].title(),\n",
        "                 horizontalalignment='left',\n",
        "                 verticalalignment='bottom', size='medium',\n",
        "                 color=df['color'][line],\n",
        "                 weight='normal'\n",
        "                ).set_size(15)\n",
        "\n",
        "    \n",
        "    plt.xlim(Y[:, 0].min()-50, Y[:, 0].max()+50)\n",
        "    plt.ylim(Y[:, 1].min()-50, Y[:, 1].max()+50)\n",
        "            \n",
        "    plt.title('t-SNE visualization for {}'.format(word.title()))"
      ],
      "metadata": {
        "id": "n41NgbgnGl3P"
      },
      "execution_count": null,
      "outputs": []
    },
    {
      "cell_type": "code",
      "source": [
        "# visualize the 10 most similar words to doctor and 8 random words\n",
        "tsnescatterplot(w2v_model, 'doctor', ['dog', 'bird', 'table', 'watch', 'pen', 'plant', 'bottle', 'backpack'])"
      ],
      "metadata": {
        "id": "gOvjYYtPGv6l"
      },
      "execution_count": null,
      "outputs": []
    },
    {
      "cell_type": "markdown",
      "source": [
        "# Obtain sentece embeddings by averaging or concatenating word embeddings"
      ],
      "metadata": {
        "id": "AY5GhB2FGzxL"
      }
    },
    {
      "cell_type": "code",
      "source": [
        "# TODO write this to a file \n",
        "# given a list of sentences, for each sentence compute its emebedding by\n",
        "# computing the embedding of each word in the sentence and then divide by the\n",
        "# length of the phrase\n",
        "def generate_senteces_embeddings(X):\n",
        "  \n",
        "  sentences_embedding = []\n",
        "  # for each sentence in the set\n",
        "  for sentence in X:\n",
        "    sentence_length = len(sentence)\n",
        "    # this variable will hold the sum of each word embedding in the current phrase\n",
        "    sentence_embedding = np.zeros(w2v_model.vector_size)\n",
        "    # for each word in the sentence\n",
        "    for word in sentence:\n",
        "      # embedding of the current word\n",
        "      word_embedding = np.zeros(w2v_model.vector_size)\n",
        "\n",
        "      # compute the embedding of the current word. This is not always possible as\n",
        "      # not every word is in our dictionary. If this is not possible I simply discard\n",
        "      # the word and decrese the sentence length by 1. \n",
        "      try:\n",
        "        word_embedding = w2v_model.wv[word]\n",
        "      except KeyError:\n",
        "        sentence_length = sentence_length - 1\n",
        "      \n",
        "      sentence_embedding = sentence_embedding + word_embedding \n",
        "    \n",
        "    # in our dataset there are some (very few) length 1 sentences\n",
        "    # with one single word that is not part of the model vocabulary.\n",
        "    # In order to prevent a divison by 0, this if stattement is necessary.\n",
        "    if sentence_length == 0:\n",
        "      sentence_embedding = np.zeros(w2v_model.vector_size)\n",
        "    else:\n",
        "      sentence_embedding = sentence_embedding / sentence_length\n",
        "\n",
        "    # add the sentence embedding to the list that will be returned\n",
        "    sentences_embedding.append(np.array(sentence_embedding))\n",
        "  \n",
        "\n",
        "  return sentences_embedding\n",
        "\n",
        "X_train_se = np.array(generate_senteces_embeddings(X_train))\n",
        "X_test_se = np.array(generate_senteces_embeddings(X_test))\n",
        "X_dev_se = np.array(generate_senteces_embeddings(X_dev))\n",
        "\n",
        "\n"
      ],
      "metadata": {
        "id": "CPl4KuuSGyjN"
      },
      "execution_count": null,
      "outputs": []
    },
    {
      "cell_type": "markdown",
      "source": [
        "# Create Models to perform prediction of different classes"
      ],
      "metadata": {
        "id": "OgYOogBgHQPa"
      }
    },
    {
      "cell_type": "code",
      "source": [
        "# perform one hot encoding\n",
        "from tensorflow.keras.utils import to_categorical\n",
        "\n",
        "labels = ['BACKGROUND', \"OBJECTIVE\", \"METHODS\", \"RESULTS\", \"CONCLUSIONS\"]\n",
        "\n",
        "# map each label to an integer\n",
        "mapping = {}\n",
        "for x in range(len(labels)):\n",
        "  mapping[labels[x]] = x\n",
        "\n",
        "def from_label_to_integer(y):\n",
        "  y = list(y)\n",
        "  for x in range(len(y)):\n",
        "    y[x] = int(mapping[y[x].strip(\"\\n\")])\n",
        "  \n",
        "  return y\n",
        "\n",
        "\n",
        "y_train = np.argmax(np.array(to_categorical(from_label_to_integer(y_train))), axis=-1)\n",
        "y_test = np.argmax(np.array(to_categorical(from_label_to_integer(y_test))), axis=-1)\n",
        "y_dev = np.argmax(np.array(to_categorical(from_label_to_integer(y_dev))), axis=-1)"
      ],
      "metadata": {
        "id": "xo1e2TSkHT_y"
      },
      "execution_count": null,
      "outputs": []
    },
    {
      "cell_type": "markdown",
      "source": [
        "## CNN"
      ],
      "metadata": {
        "id": "9er1dQ9kk1sF"
      }
    },
    {
      "cell_type": "code",
      "source": [
        "# --------------------------------------------------------\n",
        "# ------------------------- CNN -------------------------\n",
        "# --------------------------------------------------------\n",
        "import tensorflow as tf\n",
        "from tensorflow.keras.models import Sequential\n",
        "from tensorflow.keras.layers import Conv1D, MaxPooling1D, Dropout, Dense, GlobalAveragePooling1D\n",
        "from tensorflow.keras import losses\n",
        "\n",
        "# create the model\n",
        "model = Sequential()\n",
        "model.add(Conv1D(128, 30, activation='relu', input_shape=(300, 1)))\n",
        "model.add(MaxPooling1D(2))\n",
        "model.add(Dropout(0.1))\n",
        "model.add(Conv1D(128, 25, activation='relu'))\n",
        "model.add(MaxPooling1D(2))\n",
        "model.add(Dropout(0.1))\n",
        "model.add(Conv1D(128, 10, activation='relu'))\n",
        "model.add(MaxPooling1D(2))\n",
        "model.add(Dropout(0.5))\n",
        "model.add(Conv1D(128, 5, activation='relu'))\n",
        "model.add(GlobalAveragePooling1D())\n",
        "# model.add(Flatten())\n",
        "model.add(Dense(256, kernel_initializer='normal', activation='relu'))\n",
        "model.add(Dropout(0.1))\n",
        "model.add(Dense(128, kernel_initializer='normal', activation='relu'))\n",
        "model.add(Dropout(0.1))\n",
        "model.add(Dense(64, kernel_initializer='normal', activation='relu'))\n",
        "model.add(Dropout(0.1))\n",
        "model.add(Dense(5, kernel_initializer='normal', activation='softmax'))\n",
        "\n",
        "# model.summary()\n",
        "\n",
        "opt = tf.keras.optimizers.Adam(learning_rate=0.001)\n",
        "model.compile(optimizer=opt, loss=losses.sparse_categorical_crossentropy, metrics=['acc'])\n",
        "\n",
        "tf.keras.utils.plot_model(model, show_shapes=True, dpi=64)\n",
        "print(\"Number of weights: {}\".format(model.count_params()))"
      ],
      "metadata": {
        "colab": {
          "base_uri": "https://localhost:8080/"
        },
        "id": "C8zh8mRRHVsD",
        "outputId": "55dcd0a0-06bb-4093-d8b0-2fd238edd998"
      },
      "execution_count": null,
      "outputs": [
        {
          "output_type": "stream",
          "name": "stdout",
          "text": [
            "Number of weights: 734213\n"
          ]
        }
      ]
    },
    {
      "cell_type": "code",
      "source": [
        "from keras.callbacks import ModelCheckpoint, EarlyStopping, ReduceLROnPlateau\n",
        "\n",
        "file_path = MODEL_PATH.format(\"CNN_task2.h5\")\n",
        "callbacks = [\n",
        "             ModelCheckpoint(file_path, monitor='val_acc', verbose=1, save_best_only=True, mode='max'),\n",
        "             ReduceLROnPlateau(monitor=\"val_acc\", mode=\"max\", patience=3, verbose=2),\n",
        "             EarlyStopping(monitor=\"val_acc\", mode=\"max\", patience=5, verbose=1)\n",
        "             ]\n",
        "if is_train_enabled:\n",
        "  history = model.fit(X_train_se, y_train, epochs=100, verbose=1, callbacks=callbacks, validation_data=(X_dev_se, y_dev), batch_size=64)"
      ],
      "metadata": {
        "colab": {
          "base_uri": "https://localhost:8080/"
        },
        "id": "gSCwJV5MHaxt",
        "outputId": "64a1613f-e27c-4583-ae7d-902bab79e3b4"
      },
      "execution_count": null,
      "outputs": [
        {
          "output_type": "stream",
          "name": "stdout",
          "text": [
            "Epoch 1/100\n",
            "34561/34561 [==============================] - ETA: 0s - loss: 0.7136 - acc: 0.7279\n",
            "Epoch 1: val_acc improved from -inf to 0.74803, saving model to /content/drive/MyDrive/Colab Notebooks/MLHC/Project2/Models/CNN_task2.h5\n",
            "34561/34561 [==============================] - 319s 9ms/step - loss: 0.7136 - acc: 0.7279 - val_loss: 0.6657 - val_acc: 0.7480 - lr: 0.0010\n",
            "Epoch 2/100\n",
            "34560/34561 [============================>.] - ETA: 0s - loss: 0.6502 - acc: 0.7582\n",
            "Epoch 2: val_acc improved from 0.74803 to 0.75702, saving model to /content/drive/MyDrive/Colab Notebooks/MLHC/Project2/Models/CNN_task2.h5\n",
            "34561/34561 [==============================] - 311s 9ms/step - loss: 0.6502 - acc: 0.7582 - val_loss: 0.6423 - val_acc: 0.7570 - lr: 0.0010\n",
            "Epoch 3/100\n",
            "34561/34561 [==============================] - ETA: 0s - loss: 0.6385 - acc: 0.7631\n",
            "Epoch 3: val_acc improved from 0.75702 to 0.75926, saving model to /content/drive/MyDrive/Colab Notebooks/MLHC/Project2/Models/CNN_task2.h5\n",
            "34561/34561 [==============================] - 310s 9ms/step - loss: 0.6385 - acc: 0.7631 - val_loss: 0.6363 - val_acc: 0.7593 - lr: 0.0010\n",
            "Epoch 4/100\n",
            "34556/34561 [============================>.] - ETA: 0s - loss: 0.6326 - acc: 0.7655\n",
            "Epoch 4: val_acc improved from 0.75926 to 0.75999, saving model to /content/drive/MyDrive/Colab Notebooks/MLHC/Project2/Models/CNN_task2.h5\n",
            "34561/34561 [==============================] - 310s 9ms/step - loss: 0.6326 - acc: 0.7655 - val_loss: 0.6306 - val_acc: 0.7600 - lr: 0.0010\n",
            "Epoch 5/100\n",
            "34556/34561 [============================>.] - ETA: 0s - loss: 0.6288 - acc: 0.7669\n",
            "Epoch 5: val_acc improved from 0.75999 to 0.76161, saving model to /content/drive/MyDrive/Colab Notebooks/MLHC/Project2/Models/CNN_task2.h5\n",
            "34561/34561 [==============================] - 311s 9ms/step - loss: 0.6287 - acc: 0.7669 - val_loss: 0.6302 - val_acc: 0.7616 - lr: 0.0010\n",
            "Epoch 6/100\n",
            "34560/34561 [============================>.] - ETA: 0s - loss: 0.6266 - acc: 0.7682\n",
            "Epoch 6: val_acc improved from 0.76161 to 0.76303, saving model to /content/drive/MyDrive/Colab Notebooks/MLHC/Project2/Models/CNN_task2.h5\n",
            "34561/34561 [==============================] - 311s 9ms/step - loss: 0.6266 - acc: 0.7682 - val_loss: 0.6268 - val_acc: 0.7630 - lr: 0.0010\n",
            "Epoch 7/100\n",
            "34560/34561 [============================>.] - ETA: 0s - loss: 0.6264 - acc: 0.7688\n",
            "Epoch 7: val_acc did not improve from 0.76303\n",
            "34561/34561 [==============================] - 310s 9ms/step - loss: 0.6264 - acc: 0.7688 - val_loss: 0.6279 - val_acc: 0.7605 - lr: 0.0010\n",
            "Epoch 8/100\n",
            "34558/34561 [============================>.] - ETA: 0s - loss: 0.6255 - acc: 0.7693\n",
            "Epoch 8: val_acc did not improve from 0.76303\n",
            "34561/34561 [==============================] - 309s 9ms/step - loss: 0.6255 - acc: 0.7693 - val_loss: 0.6278 - val_acc: 0.7626 - lr: 0.0010\n",
            "Epoch 9/100\n",
            "34557/34561 [============================>.] - ETA: 0s - loss: 0.6245 - acc: 0.7695\n",
            "Epoch 9: val_acc improved from 0.76303 to 0.76351, saving model to /content/drive/MyDrive/Colab Notebooks/MLHC/Project2/Models/CNN_task2.h5\n",
            "34561/34561 [==============================] - 309s 9ms/step - loss: 0.6245 - acc: 0.7695 - val_loss: 0.6339 - val_acc: 0.7635 - lr: 0.0010\n",
            "Epoch 10/100\n",
            "34556/34561 [============================>.] - ETA: 0s - loss: 0.6247 - acc: 0.7695\n",
            "Epoch 10: val_acc did not improve from 0.76351\n",
            "34561/34561 [==============================] - 309s 9ms/step - loss: 0.6247 - acc: 0.7695 - val_loss: 0.6336 - val_acc: 0.7627 - lr: 0.0010\n",
            "Epoch 11/100\n",
            "34557/34561 [============================>.] - ETA: 0s - loss: 0.6259 - acc: 0.7696\n",
            "Epoch 11: val_acc improved from 0.76351 to 0.76358, saving model to /content/drive/MyDrive/Colab Notebooks/MLHC/Project2/Models/CNN_task2.h5\n",
            "34561/34561 [==============================] - 310s 9ms/step - loss: 0.6259 - acc: 0.7696 - val_loss: 0.6301 - val_acc: 0.7636 - lr: 0.0010\n",
            "Epoch 12/100\n",
            "34561/34561 [==============================] - ETA: 0s - loss: 0.6271 - acc: 0.7693\n",
            "Epoch 12: val_acc improved from 0.76358 to 0.76524, saving model to /content/drive/MyDrive/Colab Notebooks/MLHC/Project2/Models/CNN_task2.h5\n",
            "34561/34561 [==============================] - 310s 9ms/step - loss: 0.6271 - acc: 0.7693 - val_loss: 0.6279 - val_acc: 0.7652 - lr: 0.0010\n",
            "Epoch 13/100\n",
            "34560/34561 [============================>.] - ETA: 0s - loss: 0.6271 - acc: 0.7690\n",
            "Epoch 13: val_acc did not improve from 0.76524\n",
            "34561/34561 [==============================] - 310s 9ms/step - loss: 0.6271 - acc: 0.7690 - val_loss: 0.6289 - val_acc: 0.7644 - lr: 0.0010\n",
            "Epoch 14/100\n",
            "34558/34561 [============================>.] - ETA: 0s - loss: 0.6306 - acc: 0.7683\n",
            "Epoch 14: val_acc did not improve from 0.76524\n",
            "34561/34561 [==============================] - 310s 9ms/step - loss: 0.6306 - acc: 0.7683 - val_loss: 0.6306 - val_acc: 0.7650 - lr: 0.0010\n",
            "Epoch 15/100\n",
            "34556/34561 [============================>.] - ETA: 0s - loss: 0.6301 - acc: 0.7683\n",
            "Epoch 15: val_acc did not improve from 0.76524\n",
            "\n",
            "Epoch 15: ReduceLROnPlateau reducing learning rate to 0.00010000000474974513.\n",
            "34561/34561 [==============================] - 310s 9ms/step - loss: 0.6301 - acc: 0.7683 - val_loss: 0.6344 - val_acc: 0.7638 - lr: 0.0010\n",
            "Epoch 16/100\n",
            "34558/34561 [============================>.] - ETA: 0s - loss: 0.6072 - acc: 0.7755\n",
            "Epoch 16: val_acc improved from 0.76524 to 0.77015, saving model to /content/drive/MyDrive/Colab Notebooks/MLHC/Project2/Models/CNN_task2.h5\n",
            "34561/34561 [==============================] - 310s 9ms/step - loss: 0.6072 - acc: 0.7755 - val_loss: 0.6132 - val_acc: 0.7702 - lr: 1.0000e-04\n",
            "Epoch 17/100\n",
            "34556/34561 [============================>.] - ETA: 0s - loss: 0.6005 - acc: 0.7780\n",
            "Epoch 17: val_acc improved from 0.77015 to 0.77101, saving model to /content/drive/MyDrive/Colab Notebooks/MLHC/Project2/Models/CNN_task2.h5\n",
            "34561/34561 [==============================] - 310s 9ms/step - loss: 0.6005 - acc: 0.7780 - val_loss: 0.6098 - val_acc: 0.7710 - lr: 1.0000e-04\n",
            "Epoch 18/100\n",
            "34557/34561 [============================>.] - ETA: 0s - loss: 0.5978 - acc: 0.7789\n",
            "Epoch 18: val_acc improved from 0.77101 to 0.77139, saving model to /content/drive/MyDrive/Colab Notebooks/MLHC/Project2/Models/CNN_task2.h5\n",
            "34561/34561 [==============================] - 310s 9ms/step - loss: 0.5978 - acc: 0.7789 - val_loss: 0.6079 - val_acc: 0.7714 - lr: 1.0000e-04\n",
            "Epoch 19/100\n",
            "34561/34561 [==============================] - ETA: 0s - loss: 0.5952 - acc: 0.7798\n",
            "Epoch 19: val_acc improved from 0.77139 to 0.77157, saving model to /content/drive/MyDrive/Colab Notebooks/MLHC/Project2/Models/CNN_task2.h5\n",
            "34561/34561 [==============================] - 311s 9ms/step - loss: 0.5952 - acc: 0.7798 - val_loss: 0.6071 - val_acc: 0.7716 - lr: 1.0000e-04\n",
            "Epoch 20/100\n",
            "34560/34561 [============================>.] - ETA: 0s - loss: 0.5939 - acc: 0.7804\n",
            "Epoch 20: val_acc did not improve from 0.77157\n",
            "34561/34561 [==============================] - 310s 9ms/step - loss: 0.5939 - acc: 0.7804 - val_loss: 0.6067 - val_acc: 0.7715 - lr: 1.0000e-04\n",
            "Epoch 21/100\n",
            "34558/34561 [============================>.] - ETA: 0s - loss: 0.5925 - acc: 0.7807\n",
            "Epoch 21: val_acc did not improve from 0.77157\n",
            "34561/34561 [==============================] - 310s 9ms/step - loss: 0.5925 - acc: 0.7807 - val_loss: 0.6068 - val_acc: 0.7707 - lr: 1.0000e-04\n",
            "Epoch 22/100\n",
            "34559/34561 [============================>.] - ETA: 0s - loss: 0.5916 - acc: 0.7813\n",
            "Epoch 22: val_acc improved from 0.77157 to 0.77278, saving model to /content/drive/MyDrive/Colab Notebooks/MLHC/Project2/Models/CNN_task2.h5\n",
            "34561/34561 [==============================] - 310s 9ms/step - loss: 0.5916 - acc: 0.7813 - val_loss: 0.6044 - val_acc: 0.7728 - lr: 1.0000e-04\n",
            "Epoch 23/100\n",
            "34561/34561 [==============================] - ETA: 0s - loss: 0.5910 - acc: 0.7817\n",
            "Epoch 23: val_acc did not improve from 0.77278\n",
            "34561/34561 [==============================] - 310s 9ms/step - loss: 0.5910 - acc: 0.7817 - val_loss: 0.6044 - val_acc: 0.7725 - lr: 1.0000e-04\n",
            "Epoch 24/100\n",
            "34559/34561 [============================>.] - ETA: 0s - loss: 0.5898 - acc: 0.7820\n",
            "Epoch 24: val_acc improved from 0.77278 to 0.77440, saving model to /content/drive/MyDrive/Colab Notebooks/MLHC/Project2/Models/CNN_task2.h5\n",
            "34561/34561 [==============================] - 311s 9ms/step - loss: 0.5898 - acc: 0.7820 - val_loss: 0.6026 - val_acc: 0.7744 - lr: 1.0000e-04\n",
            "Epoch 25/100\n",
            "34558/34561 [============================>.] - ETA: 0s - loss: 0.5887 - acc: 0.7823\n",
            "Epoch 25: val_acc did not improve from 0.77440\n",
            "34561/34561 [==============================] - 310s 9ms/step - loss: 0.5887 - acc: 0.7823 - val_loss: 0.6027 - val_acc: 0.7736 - lr: 1.0000e-04\n",
            "Epoch 26/100\n",
            "34561/34561 [==============================] - ETA: 0s - loss: 0.5884 - acc: 0.7824\n",
            "Epoch 26: val_acc did not improve from 0.77440\n",
            "34561/34561 [==============================] - 310s 9ms/step - loss: 0.5884 - acc: 0.7824 - val_loss: 0.6043 - val_acc: 0.7725 - lr: 1.0000e-04\n",
            "Epoch 27/100\n",
            "34560/34561 [============================>.] - ETA: 0s - loss: 0.5882 - acc: 0.7826\n",
            "Epoch 27: val_acc did not improve from 0.77440\n",
            "\n",
            "Epoch 27: ReduceLROnPlateau reducing learning rate to 1.0000000474974514e-05.\n",
            "34561/34561 [==============================] - 310s 9ms/step - loss: 0.5882 - acc: 0.7826 - val_loss: 0.6035 - val_acc: 0.7732 - lr: 1.0000e-04\n",
            "Epoch 28/100\n",
            "34558/34561 [============================>.] - ETA: 0s - loss: 0.5859 - acc: 0.7832\n",
            "Epoch 28: val_acc did not improve from 0.77440\n",
            "34561/34561 [==============================] - 310s 9ms/step - loss: 0.5859 - acc: 0.7832 - val_loss: 0.6017 - val_acc: 0.7736 - lr: 1.0000e-05\n",
            "Epoch 29/100\n",
            "34560/34561 [============================>.] - ETA: 0s - loss: 0.5849 - acc: 0.7832\n",
            "Epoch 29: val_acc did not improve from 0.77440\n",
            "34561/34561 [==============================] - 310s 9ms/step - loss: 0.5849 - acc: 0.7832 - val_loss: 0.6014 - val_acc: 0.7735 - lr: 1.0000e-05\n",
            "Epoch 29: early stopping\n"
          ]
        }
      ]
    },
    {
      "cell_type": "code",
      "source": [
        "# load the model from the corresposning h5 file\n",
        "model.load_weights(MODEL_PATH.format(\"CNN_task2.h5\"))"
      ],
      "metadata": {
        "id": "dA0DWRWLHD_8"
      },
      "execution_count": null,
      "outputs": []
    },
    {
      "cell_type": "code",
      "source": [
        "from sklearn.metrics import f1_score, accuracy_score\n",
        "\n",
        "y_pred = model.predict(X_test_se)\n",
        "y_pred = np.argmax(y_pred, axis=-1)\n",
        "\n",
        "f1 = f1_score(y_test, y_pred, average=\"macro\")\n",
        "\n",
        "print(\"Test f1 score : %s \"% f1)\n",
        "\n",
        "acc = accuracy_score(y_test, axis=-1), y_pred)\n",
        "\n",
        "print(\"Test accuracy score : %s \"% acc)"
      ],
      "metadata": {
        "colab": {
          "base_uri": "https://localhost:8080/"
        },
        "id": "exhw1zNbHFKj",
        "outputId": "afdfd3fa-b634-441a-ce43-bbba72c676e9"
      },
      "execution_count": null,
      "outputs": [
        {
          "output_type": "stream",
          "name": "stdout",
          "text": [
            "Test f1 score : 0.6883908645890027 \n",
            "Test accuracy score : 0.778150747635032 \n"
          ]
        }
      ]
    },
    {
      "cell_type": "code",
      "source": [
        "if is_train_enabled:\n",
        "  # Plot training & validation loss values\n",
        "  plt.plot(history.history['loss'])\n",
        "  plt.plot(history.history['val_loss'])\n",
        "  plt.title('Model loss')\n",
        "  plt.ylabel('loss')\n",
        "  plt.xlabel('Epoch')\n",
        "  plt.legend(['Train', 'Validation'], loc='upper left')\n",
        "  plt.show()"
      ],
      "metadata": {
        "colab": {
          "base_uri": "https://localhost:8080/",
          "height": 295
        },
        "id": "nn6Jzzl3HGe0",
        "outputId": "14c60a08-1673-42aa-d729-2d4e0e43fcf0"
      },
      "execution_count": null,
      "outputs": [
        {
          "output_type": "display_data",
          "data": {
            "text/plain": [
              "<Figure size 432x288 with 1 Axes>"
            ],
            "image/png": "[encoded data removed]"
          },
          "metadata": {}
        }
      ]
    },
    {
      "cell_type": "code",
      "source": [
        "if is_train_enabled:\n",
        "  # Plot training & validation accuracy values\n",
        "  plt.plot(history.history['acc'])\n",
        "  plt.plot(history.history['val_acc'])\n",
        "  plt.title('Model accuracy')\n",
        "  plt.ylabel('Accuracy')\n",
        "  plt.xlabel('Epoch')\n",
        "  plt.legend(['Train', 'Validation'], loc='upper left')\n",
        "  plt.show()"
      ],
      "metadata": {
        "colab": {
          "base_uri": "https://localhost:8080/",
          "height": 295
        },
        "id": "g5h-MKjtHHoy",
        "outputId": "0d91a316-ea98-406b-e0f4-cba7a83f81c0"
      },
      "execution_count": null,
      "outputs": [
        {
          "output_type": "display_data",
          "data": {
            "text/plain": [
              "<Figure size 432x288 with 1 Axes>"
            ],
            "image/png": "[encoded data removed]"
          },
          "metadata": {}
        }
      ]
    },
    {
      "cell_type": "code",
      "source": [
        "from sklearn.metrics import ConfusionMatrixDisplay, confusion_matrix\n",
        "import matplotlib.pyplot as plt\n",
        "\n",
        "# Plotting confusion matrix\n",
        "cm = confusion_matrix(y_test, y_pred)\n",
        "\n",
        "disp = ConfusionMatrixDisplay(confusion_matrix=cm, display_labels=[0,1,2,3])\n",
        "\n",
        "disp.plot(cmap=plt.cm.Blues)\n",
        "plt.show()"
      ],
      "metadata": {
        "colab": {
          "base_uri": "https://localhost:8080/",
          "height": 279
        },
        "id": "dI1p-CWMHI-U",
        "outputId": "0144164e-ceb1-4e27-e6c5-eeb433d37af0"
      },
      "execution_count": null,
      "outputs": [
        {
          "output_type": "display_data",
          "data": {
            "text/plain": [
              "<Figure size 432x288 with 2 Axes>"
            ],
            "image/png": "[encoded data removed]"
          },
          "metadata": {
            "needs_background": "light"
          }
        }
      ]
    },
    {
      "cell_type": "markdown",
      "source": [
        "## Feed Forward Neural Network"
      ],
      "metadata": {
        "id": "r09kD1UEH2JW"
      }
    },
    {
      "cell_type": "code",
      "source": [
        "from tensorflow.keras.models import Sequential\n",
        "from tensorflow.keras.layers import Dense, Dropout\n",
        "\n",
        "model = Sequential()\n",
        "model.add(Dense(512, input_dim=300, activation='relu'))\n",
        "model.add(Dense(512, activation='relu'))\n",
        "model.add(Dropout(0.2))\n",
        "model.add(Dense(256, activation='relu'))\n",
        "model.add(Dense(256, activation='relu'))\n",
        "model.add(Dropout(0.2))\n",
        "model.add(Dense(128, activation='relu'))\n",
        "model.add(Dense(128, activation='relu'))\n",
        "model.add(Dropout(0.2))\n",
        "model.add(Dense(64,  activation='relu'))\n",
        "model.add(Dense(64,  activation='relu'))\n",
        "model.add(Dropout(0.2))\n",
        "model.add(Dense(32, activation='relu'))\n",
        "model.add(Dense(32, activation='relu'))\n",
        "model.add(Dense(5, activation='softmax'))\n",
        "\n",
        "model.compile(\n",
        "  optimizer='adam',\n",
        "  loss='sparse_categorical_crossentropy',\n",
        "  metrics=['accuracy'],\n",
        ")"
      ],
      "metadata": {
        "id": "3zmEiqmIIKDI"
      },
      "execution_count": null,
      "outputs": []
    },
    {
      "cell_type": "code",
      "source": [
        "from keras.callbacks import ModelCheckpoint, EarlyStopping, ReduceLROnPlateau\n",
        "\n",
        "file_path = MODEL_PATH.format(\"MLP_task2.h5\")\n",
        "callbacks = [\n",
        "             ModelCheckpoint(file_path, monitor='val_accuracy', verbose=1, save_best_only=True, mode='max'),\n",
        "             ReduceLROnPlateau(monitor=\"val_accuracy\", mode=\"max\", patience=3, verbose=2),\n",
        "             EarlyStopping(monitor=\"val_accuracy\", mode=\"max\", patience=5, verbose=1)\n",
        "             ]\n",
        "if is_train_enabled:\n",
        "  history = model.fit(X_train_se, y_train, epochs=100, verbose=1, callbacks=callbacks, validation_data=(X_dev_se, y_dev), batch_size=128)"
      ],
      "metadata": {
        "colab": {
          "base_uri": "https://localhost:8080/"
        },
        "id": "tmWpl6qxIYNb",
        "outputId": "d945e212-05c1-4a00-895b-885f075b4acb"
      },
      "execution_count": null,
      "outputs": [
        {
          "output_type": "stream",
          "name": "stdout",
          "text": [
            "Epoch 1/100\n",
            "17272/17281 [============================>.] - ETA: 0s - loss: 0.5883 - accuracy: 0.7852\n",
            "Epoch 1: val_accuracy improved from -inf to 0.78335, saving model to /content/drive/MyDrive/Colab Notebooks/MLHC/Project2/Models/MLP_task2_5.h5\n",
            "17281/17281 [==============================] - 55s 3ms/step - loss: 0.5883 - accuracy: 0.7852 - val_loss: 0.5956 - val_accuracy: 0.7834 - lr: 0.0010\n",
            "Epoch 2/100\n",
            "17276/17281 [============================>.] - ETA: 0s - loss: 0.5427 - accuracy: 0.8012\n",
            "Epoch 2: val_accuracy improved from 0.78335 to 0.78761, saving model to /content/drive/MyDrive/Colab Notebooks/MLHC/Project2/Models/MLP_task2_5.h5\n",
            "17281/17281 [==============================] - 53s 3ms/step - loss: 0.5427 - accuracy: 0.8012 - val_loss: 0.5714 - val_accuracy: 0.7876 - lr: 0.0010\n",
            "Epoch 3/100\n",
            "17274/17281 [============================>.] - ETA: 0s - loss: 0.5309 - accuracy: 0.8055\n",
            "Epoch 3: val_accuracy improved from 0.78761 to 0.79165, saving model to /content/drive/MyDrive/Colab Notebooks/MLHC/Project2/Models/MLP_task2_5.h5\n",
            "17281/17281 [==============================] - 53s 3ms/step - loss: 0.5309 - accuracy: 0.8055 - val_loss: 0.5665 - val_accuracy: 0.7916 - lr: 0.0010\n",
            "Epoch 4/100\n",
            "17274/17281 [============================>.] - ETA: 0s - loss: 0.5257 - accuracy: 0.8073\n",
            "Epoch 4: val_accuracy improved from 0.79165 to 0.79352, saving model to /content/drive/MyDrive/Colab Notebooks/MLHC/Project2/Models/MLP_task2_5.h5\n",
            "17281/17281 [==============================] - 52s 3ms/step - loss: 0.5257 - accuracy: 0.8073 - val_loss: 0.5582 - val_accuracy: 0.7935 - lr: 0.0010\n",
            "Epoch 5/100\n",
            "17279/17281 [============================>.] - ETA: 0s - loss: 0.5220 - accuracy: 0.8089\n",
            "Epoch 5: val_accuracy did not improve from 0.79352\n",
            "17281/17281 [==============================] - 53s 3ms/step - loss: 0.5220 - accuracy: 0.8089 - val_loss: 0.5654 - val_accuracy: 0.7925 - lr: 0.0010\n",
            "Epoch 6/100\n",
            "17280/17281 [============================>.] - ETA: 0s - loss: 0.5205 - accuracy: 0.8095\n",
            "Epoch 6: val_accuracy did not improve from 0.79352\n",
            "17281/17281 [==============================] - 52s 3ms/step - loss: 0.5205 - accuracy: 0.8095 - val_loss: 0.5614 - val_accuracy: 0.7922 - lr: 0.0010\n",
            "Epoch 7/100\n",
            "17270/17281 [============================>.] - ETA: 0s - loss: 0.5207 - accuracy: 0.8093\n",
            "Epoch 7: val_accuracy did not improve from 0.79352\n",
            "\n",
            "Epoch 7: ReduceLROnPlateau reducing learning rate to 0.00010000000474974513.\n",
            "17281/17281 [==============================] - 52s 3ms/step - loss: 0.5207 - accuracy: 0.8093 - val_loss: 0.5627 - val_accuracy: 0.7930 - lr: 0.0010\n",
            "Epoch 8/100\n",
            "17280/17281 [============================>.] - ETA: 0s - loss: 0.4979 - accuracy: 0.8168\n",
            "Epoch 8: val_accuracy improved from 0.79352 to 0.80191, saving model to /content/drive/MyDrive/Colab Notebooks/MLHC/Project2/Models/MLP_task2_5.h5\n",
            "17281/17281 [==============================] - 53s 3ms/step - loss: 0.4979 - accuracy: 0.8168 - val_loss: 0.5402 - val_accuracy: 0.8019 - lr: 1.0000e-04\n",
            "Epoch 9/100\n",
            "17279/17281 [============================>.] - ETA: 0s - loss: 0.4890 - accuracy: 0.8203\n",
            "Epoch 9: val_accuracy did not improve from 0.80191\n",
            "17281/17281 [==============================] - 52s 3ms/step - loss: 0.4890 - accuracy: 0.8203 - val_loss: 0.5368 - val_accuracy: 0.8013 - lr: 1.0000e-04\n",
            "Epoch 10/100\n",
            "17281/17281 [==============================] - ETA: 0s - loss: 0.4850 - accuracy: 0.8217\n",
            "Epoch 10: val_accuracy did not improve from 0.80191\n",
            "17281/17281 [==============================] - 52s 3ms/step - loss: 0.4850 - accuracy: 0.8217 - val_loss: 0.5368 - val_accuracy: 0.8017 - lr: 1.0000e-04\n",
            "Epoch 11/100\n",
            "17278/17281 [============================>.] - ETA: 0s - loss: 0.4817 - accuracy: 0.8227\n",
            "Epoch 11: val_accuracy did not improve from 0.80191\n",
            "\n",
            "Epoch 11: ReduceLROnPlateau reducing learning rate to 1.0000000474974514e-05.\n",
            "17281/17281 [==============================] - 53s 3ms/step - loss: 0.4817 - accuracy: 0.8227 - val_loss: 0.5360 - val_accuracy: 0.8017 - lr: 1.0000e-04\n",
            "Epoch 12/100\n",
            "17268/17281 [============================>.] - ETA: 0s - loss: 0.4784 - accuracy: 0.8237\n",
            "Epoch 12: val_accuracy improved from 0.80191 to 0.80268, saving model to /content/drive/MyDrive/Colab Notebooks/MLHC/Project2/Models/MLP_task2_5.h5\n",
            "17281/17281 [==============================] - 53s 3ms/step - loss: 0.4784 - accuracy: 0.8237 - val_loss: 0.5347 - val_accuracy: 0.8027 - lr: 1.0000e-05\n",
            "Epoch 13/100\n",
            "17279/17281 [============================>.] - ETA: 0s - loss: 0.4778 - accuracy: 0.8239\n",
            "Epoch 13: val_accuracy did not improve from 0.80268\n",
            "17281/17281 [==============================] - 52s 3ms/step - loss: 0.4778 - accuracy: 0.8239 - val_loss: 0.5346 - val_accuracy: 0.8024 - lr: 1.0000e-05\n",
            "Epoch 14/100\n",
            "17280/17281 [============================>.] - ETA: 0s - loss: 0.4773 - accuracy: 0.8242\n",
            "Epoch 14: val_accuracy did not improve from 0.80268\n",
            "17281/17281 [==============================] - 52s 3ms/step - loss: 0.4773 - accuracy: 0.8242 - val_loss: 0.5344 - val_accuracy: 0.8024 - lr: 1.0000e-05\n",
            "Epoch 15/100\n",
            "17280/17281 [============================>.] - ETA: 0s - loss: 0.4768 - accuracy: 0.8242\n",
            "Epoch 15: val_accuracy did not improve from 0.80268\n",
            "\n",
            "Epoch 15: ReduceLROnPlateau reducing learning rate to 1.0000000656873453e-06.\n",
            "17281/17281 [==============================] - 52s 3ms/step - loss: 0.4768 - accuracy: 0.8242 - val_loss: 0.5342 - val_accuracy: 0.8024 - lr: 1.0000e-05\n",
            "Epoch 16/100\n",
            "17266/17281 [============================>.] - ETA: 0s - loss: 0.4765 - accuracy: 0.8245\n",
            "Epoch 16: val_accuracy did not improve from 0.80268\n",
            "17281/17281 [==============================] - 52s 3ms/step - loss: 0.4765 - accuracy: 0.8245 - val_loss: 0.5341 - val_accuracy: 0.8023 - lr: 1.0000e-06\n",
            "Epoch 17/100\n",
            "17273/17281 [============================>.] - ETA: 0s - loss: 0.4763 - accuracy: 0.8246\n",
            "Epoch 17: val_accuracy did not improve from 0.80268\n",
            "17281/17281 [==============================] - 53s 3ms/step - loss: 0.4763 - accuracy: 0.8246 - val_loss: 0.5341 - val_accuracy: 0.8021 - lr: 1.0000e-06\n",
            "Epoch 17: early stopping\n"
          ]
        }
      ]
    },
    {
      "cell_type": "code",
      "source": [
        "# load the model from the corresposning h5 file\n",
        "model.load_weights(MODEL_PATH.format(\"MLP_task2.h5\"))"
      ],
      "metadata": {
        "id": "2l0GSMN3JhMa"
      },
      "execution_count": null,
      "outputs": []
    },
    {
      "cell_type": "code",
      "source": [
        "from sklearn.metrics import f1_score, accuracy_score\n",
        "\n",
        "y_pred = np.argmax(model.predict(X_test_se), axis=-1)\n",
        "\n",
        "f1 = f1_score(y_test, y_pred, average=\"macro\")\n",
        "\n",
        "print(\"Test f1 score : %s \"% f1)\n",
        "\n",
        "acc = accuracy_score(y_test, y_pred)\n",
        "\n",
        "print(\"Test accuracy score : %s \"% acc)"
      ],
      "metadata": {
        "id": "ooAImx96I99g",
        "colab": {
          "base_uri": "https://localhost:8080/"
        },
        "outputId": "b325b8e3-03d9-4992-aa27-f6eedff2c248"
      },
      "execution_count": null,
      "outputs": [
        {
          "output_type": "stream",
          "name": "stdout",
          "text": [
            "Test f1 score : 0.7295973671243317 \n",
            "Test accuracy score : 0.8068355202929509 \n"
          ]
        }
      ]
    },
    {
      "cell_type": "code",
      "source": [
        "\n",
        "if is_train_enabled:\n",
        "  # Plot training & validation loss values\n",
        "  plt.plot(history.history['loss'])\n",
        "  plt.plot(history.history['val_loss'])\n",
        "  plt.title('Model loss')\n",
        "  plt.ylabel('loss')\n",
        "  plt.xlabel('Epoch')\n",
        "  plt.legend(['Train', 'Validation'], loc='upper left')\n",
        "  plt.show()"
      ],
      "metadata": {
        "id": "cnR6P5VyJl01",
        "colab": {
          "base_uri": "https://localhost:8080/",
          "height": 295
        },
        "outputId": "6a2954a5-d2a4-4e7e-eae9-75af184898bb"
      },
      "execution_count": null,
      "outputs": [
        {
          "output_type": "display_data",
          "data": {
            "text/plain": [
              "<Figure size 432x288 with 1 Axes>"
            ],
            "image/png": "[encoded data removed]"
          },
          "metadata": {}
        }
      ]
    },
    {
      "cell_type": "code",
      "source": [
        "if is_train_enabled:\n",
        "  # Plot training & validation accuracy values\n",
        "  plt.plot(history.history['accuracy'])\n",
        "  plt.plot(history.history['val_accuracy'])\n",
        "  plt.title('Model accuracy')\n",
        "  plt.ylabel('Accuracy')\n",
        "  plt.xlabel('Epoch')\n",
        "  plt.legend(['Train', 'Validation'], loc='upper left')\n",
        "  plt.show()"
      ],
      "metadata": {
        "id": "6VEgJrqJJoUD",
        "colab": {
          "base_uri": "https://localhost:8080/",
          "height": 295
        },
        "outputId": "54304333-e4e4-46a2-890b-b2d64769011f"
      },
      "execution_count": null,
      "outputs": [
        {
          "output_type": "display_data",
          "data": {
            "text/plain": [
              "<Figure size 432x288 with 1 Axes>"
            ],
            "image/png": "[encoded data removed]"
          },
          "metadata": {}
        }
      ]
    },
    {
      "cell_type": "code",
      "source": [
        "from sklearn.metrics import ConfusionMatrixDisplay, confusion_matrix\n",
        "import matplotlib.pyplot as plt\n",
        "\n",
        "# Plotting confusion matrix\n",
        "cm = confusion_matrix(y_test, y_pred)\n",
        "\n",
        "disp = ConfusionMatrixDisplay(confusion_matrix=cm, display_labels=[0,1,2,3])\n",
        "\n",
        "disp.plot(cmap=plt.cm.Blues)\n",
        "plt.show()"
      ],
      "metadata": {
        "id": "EJj4H6B_JqeC",
        "colab": {
          "base_uri": "https://localhost:8080/",
          "height": 279
        },
        "outputId": "3a6871e8-a862-4476-b0b0-95d4d47c27c1"
      },
      "execution_count": null,
      "outputs": [
        {
          "output_type": "display_data",
          "data": {
            "text/plain": [
              "<Figure size 432x288 with 2 Axes>"
            ],
            "image/png": "[encoded data removed]"
          },
          "metadata": {}
        }
      ]
    }
  ]
}