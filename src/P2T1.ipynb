{
  "cells": [
    {
      "cell_type": "code",
      "execution_count": null,
      "metadata": {
        "id": "0kgfDI6NnAlu"
      },
      "outputs": [],
      "source": [
        "train = True"
      ]
    },
    {
      "cell_type": "code",
      "execution_count": null,
      "metadata": {
        "colab": {
          "base_uri": "https://localhost:8080/"
        },
        "id": "d4HxVKN8Nyfi",
        "outputId": "206e0915-524f-42e1-8b39-af0871c41560"
      },
      "outputs": [
        {
          "name": "stdout",
          "output_type": "stream",
          "text": [
            "Your runtime has 27.3 gigabytes of available RAM\n",
            "\n",
            "You are using a high-RAM runtime!\n"
          ]
        }
      ],
      "source": [
        "from psutil import virtual_memory\n",
        "ram_gb = virtual_memory().total / 1e9\n",
        "print('Your runtime has {:.1f} gigabytes of available RAM\\n'.format(ram_gb))\n",
        "\n",
        "if ram_gb < 20:\n",
        "  print('Not using a high-RAM runtime')\n",
        "else:\n",
        "  print('You are using a high-RAM runtime!')"
      ]
    },
    {
      "cell_type": "code",
      "execution_count": null,
      "metadata": {
        "colab": {
          "base_uri": "https://localhost:8080/"
        },
        "id": "zEK8XSYCN1FW",
        "outputId": "b5f19e3b-6bbd-4bda-9d79-55cf447d4eac"
      },
      "outputs": [
        {
          "name": "stdout",
          "output_type": "stream",
          "text": [
            "Drive already mounted at /content/gdrive; to attempt to forcibly remount, call drive.mount(\"/content/gdrive\", force_remount=True).\n"
          ]
        }
      ],
      "source": [
        "# Mount Google Drive and set data paths.\n",
        "import os\n",
        "from google.colab import drive\n",
        "from google.colab import files\n",
        "\n",
        "drive.mount('/content/gdrive')"
      ]
    },
    {
      "cell_type": "markdown",
      "metadata": {
        "id": "Qkj_HZVuN3S6"
      },
      "source": [
        "# ML4H - Project 2\n",
        "\n",
        "## Task 1"
      ]
    },
    {
      "cell_type": "code",
      "execution_count": null,
      "metadata": {
        "id": "niGoBhTlN7Nr"
      },
      "outputs": [],
      "source": [
        "# Gloabal variables\n",
        "data_path = \"/content/gdrive/My Drive/ETH/MLH/Project2/data/PubMed_200k_RCT/\"\n",
        "model_path = \"/content/gdrive/My Drive/ETH/MLH/Project2/model/\"\n",
        "\n",
        "seed = 50"
      ]
    },
    {
      "cell_type": "code",
      "execution_count": null,
      "metadata": {
        "id": "WKPYUyalOGn9"
      },
      "outputs": [],
      "source": [
        "from tqdm.notebook import tqdm\n",
        "\n",
        "import matplotlib.pyplot as plt\n",
        "\n",
        "import pandas as pd\n",
        "\n",
        "import numpy as np\n",
        "\n",
        "from sklearn.feature_extraction.text import TfidfVectorizer\n",
        "from sklearn import preprocessing\n",
        "from sklearn.model_selection import learning_curve\n",
        "from sklearn.ensemble import RandomForestClassifier\n",
        "\n",
        "from tensorflow.keras.regularizers import L1, L2\n",
        "from tensorflow.keras import models, optimizers, losses, metrics\n",
        "from tensorflow.keras.layers import Dense, BatchNormalization, Input, LeakyReLU\n",
        "from tensorflow.keras.callbacks import ModelCheckpoint, EarlyStopping, ReduceLROnPlateau"
      ]
    },
    {
      "cell_type": "code",
      "execution_count": null,
      "metadata": {
        "id": "dUhxh3Epm_KL"
      },
      "outputs": [],
      "source": [
        ""
      ]
    },
    {
      "cell_type": "code",
      "execution_count": null,
      "metadata": {
        "id": "cxYs4XkOQM-x"
      },
      "outputs": [],
      "source": [
        "train_df = pd.read_parquet(data_path + 'pre_processed_train.gzip')\n",
        "test_df = pd.read_parquet(data_path + 'pre_processed_test.gzip')\n",
        "dev_df = pd.read_parquet(data_path + 'pre_processed_dev.gzip')"
      ]
    },
    {
      "cell_type": "code",
      "execution_count": null,
      "metadata": {
        "colab": {
          "base_uri": "https://localhost:8080/",
          "height": 204
        },
        "id": "CvWeq3vjSIC6",
        "outputId": "44c2a283-f317-4cdc-c5af-1eb73b7f88bb"
      },
      "outputs": [
        {
          "data": {
            "text/html": [
              "\n",
              "  <div id=\"df-844d7e24-c979-4fda-a385-2b26c8a6bfed\">\n",
              "    <div class=\"colab-df-container\">\n",
              "      <div>\n",
              "<style scoped>\n",
              "    .dataframe tbody tr th:only-of-type {\n",
              "        vertical-align: middle;\n",
              "    }\n",
              "\n",
              "    .dataframe tbody tr th {\n",
              "        vertical-align: top;\n",
              "    }\n",
              "\n",
              "    .dataframe thead th {\n",
              "        text-align: right;\n",
              "    }\n",
              "</style>\n",
              "<table border=\"1\" class=\"dataframe\">\n",
              "  <thead>\n",
              "    <tr style=\"text-align: right;\">\n",
              "      <th></th>\n",
              "      <th>Label</th>\n",
              "      <th>Words</th>\n",
              "    </tr>\n",
              "  </thead>\n",
              "  <tbody>\n",
              "    <tr>\n",
              "      <th>0</th>\n",
              "      <td>BACKGROUND</td>\n",
              "      <td>[emerg, hiv, chronic, condit, mean, peopl, liv...</td>\n",
              "    </tr>\n",
              "    <tr>\n",
              "      <th>1</th>\n",
              "      <td>BACKGROUND</td>\n",
              "      <td>[paper, describ, design, evalu, posit, outlook...</td>\n",
              "    </tr>\n",
              "    <tr>\n",
              "      <th>2</th>\n",
              "      <td>METHODS</td>\n",
              "      <td>[studi, design, randomis, control, trial, men,...</td>\n",
              "    </tr>\n",
              "    <tr>\n",
              "      <th>3</th>\n",
              "      <td>METHODS</td>\n",
              "      <td>[intervent, group, particip, onlin, group, pro...</td>\n",
              "    </tr>\n",
              "    <tr>\n",
              "      <th>4</th>\n",
              "      <td>METHODS</td>\n",
              "      <td>[program, base, self, efficaci, theori, use, s...</td>\n",
              "    </tr>\n",
              "  </tbody>\n",
              "</table>\n",
              "</div>\n",
              "      <button class=\"colab-df-convert\" onclick=\"convertToInteractive('df-844d7e24-c979-4fda-a385-2b26c8a6bfed')\"\n",
              "              title=\"Convert this dataframe to an interactive table.\"\n",
              "              style=\"display:none;\">\n",
              "        \n",
              "  <svg xmlns=\"http://www.w3.org/2000/svg\" height=\"24px\"viewBox=\"0 0 24 24\"\n",
              "       width=\"24px\">\n",
              "    <path d=\"M0 0h24v24H0V0z\" fill=\"none\"/>\n",
              "    <path d=\"M18.56 5.44l.94 2.06.94-2.06 2.06-.94-2.06-.94-.94-2.06-.94 2.06-2.06.94zm-11 1L8.5 8.5l.94-2.06 2.06-.94-2.06-.94L8.5 2.5l-.94 2.06-2.06.94zm10 10l.94 2.06.94-2.06 2.06-.94-2.06-.94-.94-2.06-.94 2.06-2.06.94z\"/><path d=\"M17.41 7.96l-1.37-1.37c-.4-.4-.92-.59-1.43-.59-.52 0-1.04.2-1.43.59L10.3 9.45l-7.72 7.72c-.78.78-.78 2.05 0 2.83L4 21.41c.39.39.9.59 1.41.59.51 0 1.02-.2 1.41-.59l7.78-7.78 2.81-2.81c.8-.78.8-2.07 0-2.86zM5.41 20L4 18.59l7.72-7.72 1.47 1.35L5.41 20z\"/>\n",
              "  </svg>\n",
              "      </button>\n",
              "      \n",
              "  <style>\n",
              "    .colab-df-container {\n",
              "      display:flex;\n",
              "      flex-wrap:wrap;\n",
              "      gap: 12px;\n",
              "    }\n",
              "\n",
              "    .colab-df-convert {\n",
              "      background-color: #E8F0FE;\n",
              "      border: none;\n",
              "      border-radius: 50%;\n",
              "      cursor: pointer;\n",
              "      display: none;\n",
              "      fill: #1967D2;\n",
              "      height: 32px;\n",
              "      padding: 0 0 0 0;\n",
              "      width: 32px;\n",
              "    }\n",
              "\n",
              "    .colab-df-convert:hover {\n",
              "      background-color: #E2EBFA;\n",
              "      box-shadow: 0px 1px 2px rgba(60, 64, 67, 0.3), 0px 1px 3px 1px rgba(60, 64, 67, 0.15);\n",
              "      fill: #174EA6;\n",
              "    }\n",
              "\n",
              "    [theme=dark] .colab-df-convert {\n",
              "      background-color: #3B4455;\n",
              "      fill: #D2E3FC;\n",
              "    }\n",
              "\n",
              "    [theme=dark] .colab-df-convert:hover {\n",
              "      background-color: #434B5C;\n",
              "      box-shadow: 0px 1px 3px 1px rgba(0, 0, 0, 0.15);\n",
              "      filter: drop-shadow(0px 1px 2px rgba(0, 0, 0, 0.3));\n",
              "      fill: #FFFFFF;\n",
              "    }\n",
              "  </style>\n",
              "\n",
              "      <script>\n",
              "        const buttonEl =\n",
              "          document.querySelector('#df-844d7e24-c979-4fda-a385-2b26c8a6bfed button.colab-df-convert');\n",
              "        buttonEl.style.display =\n",
              "          google.colab.kernel.accessAllowed ? 'block' : 'none';\n",
              "\n",
              "        async function convertToInteractive(key) {\n",
              "          const element = document.querySelector('#df-844d7e24-c979-4fda-a385-2b26c8a6bfed');\n",
              "          const dataTable =\n",
              "            await google.colab.kernel.invokeFunction('convertToInteractive',\n",
              "                                                     [key], {});\n",
              "          if (!dataTable) return;\n",
              "\n",
              "          const docLinkHtml = 'Like what you see? Visit the ' +\n",
              "            '<a target=\"_blank\" href=https://colab.research.google.com/notebooks/data_table.ipynb>data table notebook</a>'\n",
              "            + ' to learn more about interactive tables.';\n",
              "          element.innerHTML = '';\n",
              "          dataTable['output_type'] = 'display_data';\n",
              "          await google.colab.output.renderOutput(dataTable, element);\n",
              "          const docLink = document.createElement('div');\n",
              "          docLink.innerHTML = docLinkHtml;\n",
              "          element.appendChild(docLink);\n",
              "        }\n",
              "      </script>\n",
              "    </div>\n",
              "  </div>\n",
              "  "
            ],
            "text/plain": [
              "        Label                                              Words\n",
              "0  BACKGROUND  [emerg, hiv, chronic, condit, mean, peopl, liv...\n",
              "1  BACKGROUND  [paper, describ, design, evalu, posit, outlook...\n",
              "2     METHODS  [studi, design, randomis, control, trial, men,...\n",
              "3     METHODS  [intervent, group, particip, onlin, group, pro...\n",
              "4     METHODS  [program, base, self, efficaci, theori, use, s..."
            ]
          },
          "execution_count": 7,
          "metadata": {},
          "output_type": "execute_result"
        }
      ],
      "source": [
        "train_df.head(5)"
      ]
    },
    {
      "cell_type": "code",
      "execution_count": null,
      "metadata": {
        "colab": {
          "base_uri": "https://localhost:8080/",
          "height": 294
        },
        "id": "JxBzjgYmKouV",
        "outputId": "36b9d500-8378-4306-8aaf-d69def10de5b"
      },
      "outputs": [
        {
          "data": {
            "image/png": "[encoded data removed]",
            "text/plain": [
              "<Figure size 432x288 with 1 Axes>"
            ]
          },
          "metadata": {},
          "output_type": "display_data"
        }
      ],
      "source": [
        "fig, ax = plt.subplots()\n",
        "fig.suptitle(\"Count\", fontsize=12)\n",
        "train_df[\"Label\"].reset_index().groupby(\"Label\").count().sort_values(by= \n",
        "       \"index\").plot(kind=\"barh\", legend=False, \n",
        "        ax=ax).grid(axis='x')\n",
        "plt.show()"
      ]
    },
    {
      "cell_type": "code",
      "execution_count": null,
      "metadata": {
        "id": "jyBxi4QhSSJZ"
      },
      "outputs": [],
      "source": [
        "train_lab = train_df['Label']\n",
        "train_words = train_df['Words']\n",
        "\n",
        "test_lab = test_df['Label']\n",
        "test_words = test_df['Words']\n",
        "\n",
        "dev_lab = dev_df['Label']\n",
        "dev_words = dev_df['Words']"
      ]
    },
    {
      "cell_type": "code",
      "execution_count": null,
      "metadata": {
        "colab": {
          "base_uri": "https://localhost:8080/",
          "height": 37
        },
        "id": "mF9NpLIIS3IJ",
        "outputId": "fbc36f6f-c2a5-4f05-bed2-168fb37ffe5e"
      },
      "outputs": [
        {
          "data": {
            "application/vnd.google.colaboratory.intrinsic+json": {
              "type": "string"
            },
            "text/plain": [
              "'BACKGROUND'"
            ]
          },
          "execution_count": 10,
          "metadata": {},
          "output_type": "execute_result"
        }
      ],
      "source": [
        "train_lab[0]"
      ]
    },
    {
      "cell_type": "code",
      "execution_count": null,
      "metadata": {
        "colab": {
          "base_uri": "https://localhost:8080/"
        },
        "id": "FGmHfwVkS50p",
        "outputId": "0c8eed47-a836-497a-dbfd-15d02589e546"
      },
      "outputs": [
        {
          "data": {
            "text/plain": [
              "array(['emerg', 'hiv', 'chronic', 'condit', 'mean', 'peopl', 'live',\n",
              "       'hiv', 'requir', 'take', 'respons', 'self', 'manag', 'condit',\n",
              "       'includ', 'make', 'physic', 'emot', 'social', 'adjust'],\n",
              "      dtype=object)"
            ]
          },
          "execution_count": 11,
          "metadata": {},
          "output_type": "execute_result"
        }
      ],
      "source": [
        "train_words[0]"
      ]
    },
    {
      "cell_type": "code",
      "execution_count": null,
      "metadata": {
        "id": "iFsA_9DeOHpi"
      },
      "outputs": [],
      "source": [
        "def dummy_fun(doc):\n",
        "    return doc\n",
        "\n",
        "tfidf = TfidfVectorizer(\n",
        "    analyzer='word',\n",
        "    tokenizer=dummy_fun,\n",
        "    preprocessor=dummy_fun,\n",
        "    token_pattern=None,\n",
        "    max_df=0.4,\n",
        "    min_df=0.005)   "
      ]
    },
    {
      "cell_type": "code",
      "execution_count": null,
      "metadata": {
        "colab": {
          "base_uri": "https://localhost:8080/"
        },
        "id": "YroZ9cgITRhs",
        "outputId": "650bde5e-1d89-4d3d-8a20-1d4e0d2ee1be"
      },
      "outputs": [
        {
          "data": {
            "text/plain": [
              "TfidfVectorizer(max_df=0.4, min_df=0.005,\n",
              "                preprocessor=<function dummy_fun at 0x7f61d4494830>,\n",
              "                token_pattern=None,\n",
              "                tokenizer=<function dummy_fun at 0x7f61d4494830>)"
            ]
          },
          "execution_count": 13,
          "metadata": {},
          "output_type": "execute_result"
        }
      ],
      "source": [
        "# Fitting the tfidf model\n",
        "tfidf.fit(train_words)"
      ]
    },
    {
      "cell_type": "code",
      "execution_count": null,
      "metadata": {
        "colab": {
          "base_uri": "https://localhost:8080/"
        },
        "id": "DRaZui5-MRmN",
        "outputId": "22141f7d-7295-4ff6-9bb4-1b56f707a838"
      },
      "outputs": [
        {
          "name": "stdout",
          "output_type": "stream",
          "text": [
            "X_train shape is (2211861, 511)\n",
            "X_test shape is (29493, 511)\n",
            "X_dev shape is (28932, 511)\n",
            "Y_train dim is 2211861\n",
            "Y_test dim is 29493\n",
            "Y_dev dim is 28932\n"
          ]
        }
      ],
      "source": [
        "X_train = tfidf.transform(train_words)\n",
        "X_test = tfidf.transform(test_words)\n",
        "X_dev = tfidf.transform(dev_words)\n",
        "\n",
        "X_train = X_train.toarray()\n",
        "X_test = X_test.toarray()\n",
        "X_dev = X_dev.toarray()\n",
        "\n",
        "print(\"X_train shape is {}\".format(X_train.shape))\n",
        "print(\"X_test shape is {}\".format(X_test.shape))\n",
        "print(\"X_dev shape is {}\".format(X_dev.shape))\n",
        "\n",
        "print(\"Y_train dim is {}\".format(len(train_lab)))\n",
        "print(\"Y_test dim is {}\".format(len(test_lab)))\n",
        "print(\"Y_dev dim is {}\".format(len(dev_lab)))"
      ]
    },
    {
      "cell_type": "code",
      "execution_count": null,
      "metadata": {
        "colab": {
          "base_uri": "https://localhost:8080/"
        },
        "id": "dm_wWkTc-6Ev",
        "outputId": "e2b7171c-7b8e-4bcf-bd4d-19a30b091572"
      },
      "outputs": [
        {
          "name": "stdout",
          "output_type": "stream",
          "text": [
            "Labels: ['BACKGROUND', 'CONCLUSIONS', 'METHODS', 'OBJECTIVE', 'RESULTS']\n"
          ]
        }
      ],
      "source": [
        "# Translation of labels\n",
        "from sklearn import preprocessing\n",
        "\n",
        "le = preprocessing.LabelEncoder()\n",
        "le.fit(train_lab)\n",
        "print(\"Labels: {}\".format(list(le.classes_)))\n",
        "\n",
        "Y_train = le.transform(train_lab)\n",
        "Y_test = le.transform(test_lab)\n",
        "Y_dev = le.transform(dev_lab)"
      ]
    },
    {
      "cell_type": "code",
      "execution_count": null,
      "metadata": {
        "id": "gPb4fZGTJZOv"
      },
      "outputs": [],
      "source": [
        "# Defining U-Net Model\n",
        "def getModel(input_layer_size, n_classes=5, lr=0.0005):\n",
        "    \n",
        "    inp = Input(shape=input_layer_size)\n",
        "    \n",
        "    img_1 = Dense(512, use_bias=True, activation=LeakyReLU(alpha=0.01),\n",
        "                  kernel_regularizer=L2(0.01), bias_regularizer=L2(0.01))(inp)\n",
        "    img_2 = BatchNormalization()(img_1)\n",
        "\n",
        "    img_3 = Dense(1024, use_bias=True, activation=LeakyReLU(alpha=0.01),\n",
        "                  kernel_regularizer=L2(0.01), bias_regularizer=L2(0.01))(img_2)\n",
        "    img_4 = BatchNormalization()(img_3)\n",
        "\n",
        "    img_5 = Dense(128, use_bias=True, activation=LeakyReLU(alpha=0.01),\n",
        "                  kernel_regularizer=L2(0.01), bias_regularizer=L2(0.01))(img_4) \n",
        "    img_6 = BatchNormalization()(img_5)        \n",
        "\n",
        "    out = Dense(n_classes, use_bias=True, activation='softmax',\n",
        "                kernel_regularizer=L2(0.01), bias_regularizer=L2(0.01))(img_6)\n",
        "    \n",
        "    model = models.Model(inputs=inp, outputs=out)\n",
        "    opt = optimizers.Adam(lr=lr)\n",
        "    \n",
        "    model.compile(optimizer=opt, loss=losses.sparse_categorical_crossentropy,\n",
        "                  metrics=['acc'])\n",
        "    model.summary()\n",
        "    return model"
      ]
    },
    {
      "cell_type": "code",
      "execution_count": null,
      "metadata": {
        "colab": {
          "base_uri": "https://localhost:8080/"
        },
        "id": "fpogYrKqSm39",
        "outputId": "c7284e23-217e-4863-e7dd-f87e2479f6fb"
      },
      "outputs": [
        {
          "name": "stdout",
          "output_type": "stream",
          "text": [
            "Model: \"model\"\n",
            "_________________________________________________________________\n",
            " Layer (type)                Output Shape              Param #   \n",
            "=================================================================\n",
            " input_1 (InputLayer)        [(None, 511)]             0         \n",
            "                                                                 \n",
            " dense (Dense)               (None, 512)               262144    \n",
            "                                                                 \n",
            " batch_normalization (BatchN  (None, 512)              2048      \n",
            " ormalization)                                                   \n",
            "                                                                 \n",
            " dense_1 (Dense)             (None, 1024)              525312    \n",
            "                                                                 \n",
            " batch_normalization_1 (Batc  (None, 1024)             4096      \n",
            " hNormalization)                                                 \n",
            "                                                                 \n",
            " dense_2 (Dense)             (None, 128)               131200    \n",
            "                                                                 \n",
            " batch_normalization_2 (Batc  (None, 128)              512       \n",
            " hNormalization)                                                 \n",
            "                                                                 \n",
            " dense_3 (Dense)             (None, 5)                 645       \n",
            "                                                                 \n",
            "=================================================================\n",
            "Total params: 925,957\n",
            "Trainable params: 922,629\n",
            "Non-trainable params: 3,328\n",
            "_________________________________________________________________\n"
          ]
        },
        {
          "name": "stderr",
          "output_type": "stream",
          "text": [
            "/usr/local/lib/python3.7/dist-packages/keras/optimizer_v2/adam.py:105: UserWarning: The `lr` argument is deprecated, use `learning_rate` instead.\n",
            "  super(Adam, self).__init__(name, **kwargs)\n"
          ]
        }
      ],
      "source": [
        "model = getModel(X_train.shape[1])"
      ]
    },
    {
      "cell_type": "code",
      "execution_count": null,
      "metadata": {
        "id": "gus1ZDwISolV"
      },
      "outputs": [],
      "source": [
        "# Preparing the model\n",
        "file_path = model_path + \"TF-IDF-classification.h5\"\n",
        "checkpoint = ModelCheckpoint(file_path, monitor='val_acc', verbose=1, save_best_only=True, mode='max')\n",
        "early = EarlyStopping(monitor='val_acc', mode=\"max\", patience=25, verbose=1)\n",
        "redonplat = ReduceLROnPlateau(monitor='val_acc', mode=\"max\", patience=10, verbose=2)\n",
        "callbacks_list = [checkpoint, early, redonplat]  # early"
      ]
    },
    {
      "cell_type": "code",
      "execution_count": null,
      "metadata": {
        "colab": {
          "background_save": true,
          "base_uri": "https://localhost:8080/"
        },
        "id": "F75w-hbYSqru",
        "outputId": "94e49a5c-2271-489b-a27b-f12e8c46c2b0"
      },
      "outputs": [
        {
          "name": "stdout",
          "output_type": "stream",
          "text": [
            "Epoch 1/1000\n",
            "\n",
            "Epoch 1: val_acc improved from -inf to 0.71754, saving model to /content/gdrive/My Drive/ETH/MLH/Project2/model/TF-IDF-classification.h5\n",
            "69121/69121 - 1217s - loss: 0.9728 - acc: 0.7043 - val_loss: 0.8235 - val_acc: 0.7175 - lr: 5.0000e-04 - 1217s/epoch - 18ms/step\n",
            "Epoch 2/1000\n",
            "\n",
            "Epoch 2: val_acc improved from 0.71754 to 0.72169, saving model to /content/gdrive/My Drive/ETH/MLH/Project2/model/TF-IDF-classification.h5\n",
            "69121/69121 - 937s - loss: 0.8300 - acc: 0.7127 - val_loss: 0.7907 - val_acc: 0.7217 - lr: 5.0000e-04 - 937s/epoch - 14ms/step\n",
            "Epoch 3/1000\n",
            "\n",
            "Epoch 3: val_acc improved from 0.72169 to 0.72311, saving model to /content/gdrive/My Drive/ETH/MLH/Project2/model/TF-IDF-classification.h5\n",
            "69121/69121 - 904s - loss: 0.8094 - acc: 0.7144 - val_loss: 0.7779 - val_acc: 0.7231 - lr: 5.0000e-04 - 904s/epoch - 13ms/step\n",
            "Epoch 4/1000\n",
            "\n",
            "Epoch 4: val_acc did not improve from 0.72311\n",
            "69121/69121 - 898s - loss: 0.8051 - acc: 0.7155 - val_loss: 0.7861 - val_acc: 0.7219 - lr: 5.0000e-04 - 898s/epoch - 13ms/step\n",
            "Epoch 5/1000\n",
            "\n",
            "Epoch 5: val_acc did not improve from 0.72311\n",
            "69121/69121 - 889s - loss: 0.8035 - acc: 0.7156 - val_loss: 0.7868 - val_acc: 0.7157 - lr: 5.0000e-04 - 889s/epoch - 13ms/step\n",
            "Epoch 6/1000\n",
            "\n",
            "Epoch 6: val_acc did not improve from 0.72311\n",
            "69121/69121 - 861s - loss: 0.8026 - acc: 0.7157 - val_loss: 0.7870 - val_acc: 0.7185 - lr: 5.0000e-04 - 861s/epoch - 12ms/step\n",
            "Epoch 7/1000\n",
            "\n",
            "Epoch 7: val_acc did not improve from 0.72311\n",
            "69121/69121 - 958s - loss: 0.8027 - acc: 0.7155 - val_loss: 0.7830 - val_acc: 0.7223 - lr: 5.0000e-04 - 958s/epoch - 14ms/step\n",
            "Epoch 8/1000\n",
            "\n",
            "Epoch 8: val_acc improved from 0.72311 to 0.72456, saving model to /content/gdrive/My Drive/ETH/MLH/Project2/model/TF-IDF-classification.h5\n",
            "69121/69121 - 914s - loss: 0.8022 - acc: 0.7158 - val_loss: 0.7765 - val_acc: 0.7246 - lr: 5.0000e-04 - 914s/epoch - 13ms/step\n",
            "Epoch 9/1000\n",
            "\n",
            "Epoch 9: val_acc did not improve from 0.72456\n",
            "69121/69121 - 1008s - loss: 0.8018 - acc: 0.7157 - val_loss: 0.7874 - val_acc: 0.7172 - lr: 5.0000e-04 - 1008s/epoch - 15ms/step\n",
            "Epoch 10/1000\n",
            "\n",
            "Epoch 10: val_acc did not improve from 0.72456\n",
            "69121/69121 - 929s - loss: 0.8013 - acc: 0.7159 - val_loss: 0.7817 - val_acc: 0.7208 - lr: 5.0000e-04 - 929s/epoch - 13ms/step\n",
            "Epoch 11/1000\n",
            "\n",
            "Epoch 11: val_acc did not improve from 0.72456\n",
            "69121/69121 - 926s - loss: 0.8009 - acc: 0.7161 - val_loss: 0.7798 - val_acc: 0.7217 - lr: 5.0000e-04 - 926s/epoch - 13ms/step\n",
            "Epoch 12/1000\n"
          ]
        }
      ],
      "source": [
        "# Fitting the model\n",
        "if train:\n",
        "  history = model.fit(X_train, Y_train, validation_data=(X_dev, Y_dev),\n",
        "                    epochs=1000, verbose=2, callbacks=callbacks_list)"
      ]
    }
  ],
  "metadata": {
    "accelerator": "GPU",
    "colab": {
      "machine_shape": "hm",
      "name": "P2T1.ipynb",
      "provenance": [],
      "collapsed_sections": []
    },
    "kernelspec": {
      "display_name": "Python 3",
      "name": "python3"
    },
    "language_info": {
      "name": "python"
    }
  },
  "nbformat": 4,
  "nbformat_minor": 0
}